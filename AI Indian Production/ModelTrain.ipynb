{
 "cells": [
  {
   "cell_type": "code",
   "execution_count": 20,
   "id": "e65547e1-16de-46ee-8e72-667ef0960f2b",
   "metadata": {},
   "outputs": [],
   "source": [
    "from matplotlib import pyplot as plt\n",
    "import pandas as pd\n",
    "import numpy as np\n",
    "import seaborn as sns"
   ]
  },
  {
   "cell_type": "code",
   "execution_count": 21,
   "id": "71bf540e-c32a-4f62-a84c-a27137c00453",
   "metadata": {},
   "outputs": [
    {
     "data": {
      "text/plain": [
       "(7120, 108)"
      ]
     },
     "execution_count": 21,
     "metadata": {},
     "output_type": "execute_result"
    }
   ],
   "source": [
    "df=pd.read_csv('bangalore house price prediction OHE-data.csv')\n",
    "df.shape"
   ]
  },
  {
   "cell_type": "code",
   "execution_count": 22,
   "id": "71d66d25-3ca0-4e27-bc3c-ad56ae59af00",
   "metadata": {},
   "outputs": [
    {
     "data": {
      "text/html": [
       "<div>\n",
       "<style scoped>\n",
       "    .dataframe tbody tr th:only-of-type {\n",
       "        vertical-align: middle;\n",
       "    }\n",
       "\n",
       "    .dataframe tbody tr th {\n",
       "        vertical-align: top;\n",
       "    }\n",
       "\n",
       "    .dataframe thead th {\n",
       "        text-align: right;\n",
       "    }\n",
       "</style>\n",
       "<table border=\"1\" class=\"dataframe\">\n",
       "  <thead>\n",
       "    <tr style=\"text-align: right;\">\n",
       "      <th></th>\n",
       "      <th>bath</th>\n",
       "      <th>balcony</th>\n",
       "      <th>price</th>\n",
       "      <th>total_sqft_int</th>\n",
       "      <th>bhk</th>\n",
       "      <th>price_per_sqft</th>\n",
       "      <th>area_typeSuper built-up  Area</th>\n",
       "      <th>area_typeBuilt-up  Area</th>\n",
       "      <th>area_typePlot  Area</th>\n",
       "      <th>availability_Ready To Move</th>\n",
       "      <th>...</th>\n",
       "      <th>location_Kalena Agrahara</th>\n",
       "      <th>location_Horamavu Agara</th>\n",
       "      <th>location_Vidyaranyapura</th>\n",
       "      <th>location_BTM 2nd Stage</th>\n",
       "      <th>location_Hebbal Kempapura</th>\n",
       "      <th>location_Hosur Road</th>\n",
       "      <th>location_Horamavu Banaswadi</th>\n",
       "      <th>location_Domlur</th>\n",
       "      <th>location_Mahadevpura</th>\n",
       "      <th>location_Tumkur Road</th>\n",
       "    </tr>\n",
       "  </thead>\n",
       "  <tbody>\n",
       "    <tr>\n",
       "      <th>0</th>\n",
       "      <td>3.0</td>\n",
       "      <td>2.0</td>\n",
       "      <td>150.0</td>\n",
       "      <td>1672.0</td>\n",
       "      <td>3</td>\n",
       "      <td>8971.291866</td>\n",
       "      <td>1</td>\n",
       "      <td>0</td>\n",
       "      <td>0</td>\n",
       "      <td>1</td>\n",
       "      <td>...</td>\n",
       "      <td>0</td>\n",
       "      <td>0</td>\n",
       "      <td>0</td>\n",
       "      <td>0</td>\n",
       "      <td>0</td>\n",
       "      <td>0</td>\n",
       "      <td>0</td>\n",
       "      <td>0</td>\n",
       "      <td>0</td>\n",
       "      <td>0</td>\n",
       "    </tr>\n",
       "    <tr>\n",
       "      <th>1</th>\n",
       "      <td>3.0</td>\n",
       "      <td>3.0</td>\n",
       "      <td>149.0</td>\n",
       "      <td>1750.0</td>\n",
       "      <td>3</td>\n",
       "      <td>8514.285714</td>\n",
       "      <td>0</td>\n",
       "      <td>1</td>\n",
       "      <td>0</td>\n",
       "      <td>1</td>\n",
       "      <td>...</td>\n",
       "      <td>0</td>\n",
       "      <td>0</td>\n",
       "      <td>0</td>\n",
       "      <td>0</td>\n",
       "      <td>0</td>\n",
       "      <td>0</td>\n",
       "      <td>0</td>\n",
       "      <td>0</td>\n",
       "      <td>0</td>\n",
       "      <td>0</td>\n",
       "    </tr>\n",
       "    <tr>\n",
       "      <th>2</th>\n",
       "      <td>3.0</td>\n",
       "      <td>2.0</td>\n",
       "      <td>150.0</td>\n",
       "      <td>1750.0</td>\n",
       "      <td>3</td>\n",
       "      <td>8571.428571</td>\n",
       "      <td>1</td>\n",
       "      <td>0</td>\n",
       "      <td>0</td>\n",
       "      <td>1</td>\n",
       "      <td>...</td>\n",
       "      <td>0</td>\n",
       "      <td>0</td>\n",
       "      <td>0</td>\n",
       "      <td>0</td>\n",
       "      <td>0</td>\n",
       "      <td>0</td>\n",
       "      <td>0</td>\n",
       "      <td>0</td>\n",
       "      <td>0</td>\n",
       "      <td>0</td>\n",
       "    </tr>\n",
       "    <tr>\n",
       "      <th>3</th>\n",
       "      <td>2.0</td>\n",
       "      <td>2.0</td>\n",
       "      <td>40.0</td>\n",
       "      <td>1250.0</td>\n",
       "      <td>2</td>\n",
       "      <td>3200.000000</td>\n",
       "      <td>1</td>\n",
       "      <td>0</td>\n",
       "      <td>0</td>\n",
       "      <td>1</td>\n",
       "      <td>...</td>\n",
       "      <td>0</td>\n",
       "      <td>0</td>\n",
       "      <td>0</td>\n",
       "      <td>0</td>\n",
       "      <td>0</td>\n",
       "      <td>0</td>\n",
       "      <td>0</td>\n",
       "      <td>0</td>\n",
       "      <td>0</td>\n",
       "      <td>0</td>\n",
       "    </tr>\n",
       "    <tr>\n",
       "      <th>4</th>\n",
       "      <td>2.0</td>\n",
       "      <td>2.0</td>\n",
       "      <td>83.0</td>\n",
       "      <td>1200.0</td>\n",
       "      <td>2</td>\n",
       "      <td>6916.666667</td>\n",
       "      <td>0</td>\n",
       "      <td>0</td>\n",
       "      <td>1</td>\n",
       "      <td>1</td>\n",
       "      <td>...</td>\n",
       "      <td>0</td>\n",
       "      <td>0</td>\n",
       "      <td>0</td>\n",
       "      <td>0</td>\n",
       "      <td>0</td>\n",
       "      <td>0</td>\n",
       "      <td>0</td>\n",
       "      <td>0</td>\n",
       "      <td>0</td>\n",
       "      <td>0</td>\n",
       "    </tr>\n",
       "  </tbody>\n",
       "</table>\n",
       "<p>5 rows × 108 columns</p>\n",
       "</div>"
      ],
      "text/plain": [
       "   bath  balcony  price  total_sqft_int  bhk  price_per_sqft  \\\n",
       "0   3.0      2.0  150.0          1672.0    3     8971.291866   \n",
       "1   3.0      3.0  149.0          1750.0    3     8514.285714   \n",
       "2   3.0      2.0  150.0          1750.0    3     8571.428571   \n",
       "3   2.0      2.0   40.0          1250.0    2     3200.000000   \n",
       "4   2.0      2.0   83.0          1200.0    2     6916.666667   \n",
       "\n",
       "   area_typeSuper built-up  Area  area_typeBuilt-up  Area  \\\n",
       "0                              1                        0   \n",
       "1                              0                        1   \n",
       "2                              1                        0   \n",
       "3                              1                        0   \n",
       "4                              0                        0   \n",
       "\n",
       "   area_typePlot  Area  availability_Ready To Move  ...  \\\n",
       "0                    0                           1  ...   \n",
       "1                    0                           1  ...   \n",
       "2                    0                           1  ...   \n",
       "3                    0                           1  ...   \n",
       "4                    1                           1  ...   \n",
       "\n",
       "   location_Kalena Agrahara  location_Horamavu Agara  location_Vidyaranyapura  \\\n",
       "0                         0                        0                        0   \n",
       "1                         0                        0                        0   \n",
       "2                         0                        0                        0   \n",
       "3                         0                        0                        0   \n",
       "4                         0                        0                        0   \n",
       "\n",
       "   location_BTM 2nd Stage  location_Hebbal Kempapura  location_Hosur Road  \\\n",
       "0                       0                          0                    0   \n",
       "1                       0                          0                    0   \n",
       "2                       0                          0                    0   \n",
       "3                       0                          0                    0   \n",
       "4                       0                          0                    0   \n",
       "\n",
       "   location_Horamavu Banaswadi  location_Domlur  location_Mahadevpura  \\\n",
       "0                            0                0                     0   \n",
       "1                            0                0                     0   \n",
       "2                            0                0                     0   \n",
       "3                            0                0                     0   \n",
       "4                            0                0                     0   \n",
       "\n",
       "   location_Tumkur Road  \n",
       "0                     0  \n",
       "1                     0  \n",
       "2                     0  \n",
       "3                     0  \n",
       "4                     0  \n",
       "\n",
       "[5 rows x 108 columns]"
      ]
     },
     "execution_count": 22,
     "metadata": {},
     "output_type": "execute_result"
    }
   ],
   "source": [
    "df.head()"
   ]
  },
  {
   "cell_type": "code",
   "execution_count": 23,
   "id": "dd84a169-6108-45fc-b9a1-7951befed5b3",
   "metadata": {},
   "outputs": [
    {
     "data": {
      "text/plain": [
       "((7120, 107), (7120,))"
      ]
     },
     "execution_count": 23,
     "metadata": {},
     "output_type": "execute_result"
    }
   ],
   "source": [
    "x=df.drop(columns='price',axis=1)\n",
    "y=df['price']\n",
    "x.shape,y.shape"
   ]
  },
  {
   "cell_type": "code",
   "execution_count": 24,
   "id": "61ba22ac-a6b3-475a-a451-add30b88084f",
   "metadata": {},
   "outputs": [
    {
     "data": {
      "text/html": [
       "<div>\n",
       "<style scoped>\n",
       "    .dataframe tbody tr th:only-of-type {\n",
       "        vertical-align: middle;\n",
       "    }\n",
       "\n",
       "    .dataframe tbody tr th {\n",
       "        vertical-align: top;\n",
       "    }\n",
       "\n",
       "    .dataframe thead th {\n",
       "        text-align: right;\n",
       "    }\n",
       "</style>\n",
       "<table border=\"1\" class=\"dataframe\">\n",
       "  <thead>\n",
       "    <tr style=\"text-align: right;\">\n",
       "      <th></th>\n",
       "      <th>bath</th>\n",
       "      <th>balcony</th>\n",
       "      <th>total_sqft_int</th>\n",
       "      <th>bhk</th>\n",
       "      <th>price_per_sqft</th>\n",
       "      <th>area_typeSuper built-up  Area</th>\n",
       "      <th>area_typeBuilt-up  Area</th>\n",
       "      <th>area_typePlot  Area</th>\n",
       "      <th>availability_Ready To Move</th>\n",
       "      <th>location_Whitefield</th>\n",
       "      <th>...</th>\n",
       "      <th>location_Kalena Agrahara</th>\n",
       "      <th>location_Horamavu Agara</th>\n",
       "      <th>location_Vidyaranyapura</th>\n",
       "      <th>location_BTM 2nd Stage</th>\n",
       "      <th>location_Hebbal Kempapura</th>\n",
       "      <th>location_Hosur Road</th>\n",
       "      <th>location_Horamavu Banaswadi</th>\n",
       "      <th>location_Domlur</th>\n",
       "      <th>location_Mahadevpura</th>\n",
       "      <th>location_Tumkur Road</th>\n",
       "    </tr>\n",
       "  </thead>\n",
       "  <tbody>\n",
       "    <tr>\n",
       "      <th>0</th>\n",
       "      <td>3.0</td>\n",
       "      <td>2.0</td>\n",
       "      <td>1672.0</td>\n",
       "      <td>3</td>\n",
       "      <td>8971.291866</td>\n",
       "      <td>1</td>\n",
       "      <td>0</td>\n",
       "      <td>0</td>\n",
       "      <td>1</td>\n",
       "      <td>0</td>\n",
       "      <td>...</td>\n",
       "      <td>0</td>\n",
       "      <td>0</td>\n",
       "      <td>0</td>\n",
       "      <td>0</td>\n",
       "      <td>0</td>\n",
       "      <td>0</td>\n",
       "      <td>0</td>\n",
       "      <td>0</td>\n",
       "      <td>0</td>\n",
       "      <td>0</td>\n",
       "    </tr>\n",
       "    <tr>\n",
       "      <th>1</th>\n",
       "      <td>3.0</td>\n",
       "      <td>3.0</td>\n",
       "      <td>1750.0</td>\n",
       "      <td>3</td>\n",
       "      <td>8514.285714</td>\n",
       "      <td>0</td>\n",
       "      <td>1</td>\n",
       "      <td>0</td>\n",
       "      <td>1</td>\n",
       "      <td>0</td>\n",
       "      <td>...</td>\n",
       "      <td>0</td>\n",
       "      <td>0</td>\n",
       "      <td>0</td>\n",
       "      <td>0</td>\n",
       "      <td>0</td>\n",
       "      <td>0</td>\n",
       "      <td>0</td>\n",
       "      <td>0</td>\n",
       "      <td>0</td>\n",
       "      <td>0</td>\n",
       "    </tr>\n",
       "    <tr>\n",
       "      <th>2</th>\n",
       "      <td>3.0</td>\n",
       "      <td>2.0</td>\n",
       "      <td>1750.0</td>\n",
       "      <td>3</td>\n",
       "      <td>8571.428571</td>\n",
       "      <td>1</td>\n",
       "      <td>0</td>\n",
       "      <td>0</td>\n",
       "      <td>1</td>\n",
       "      <td>0</td>\n",
       "      <td>...</td>\n",
       "      <td>0</td>\n",
       "      <td>0</td>\n",
       "      <td>0</td>\n",
       "      <td>0</td>\n",
       "      <td>0</td>\n",
       "      <td>0</td>\n",
       "      <td>0</td>\n",
       "      <td>0</td>\n",
       "      <td>0</td>\n",
       "      <td>0</td>\n",
       "    </tr>\n",
       "    <tr>\n",
       "      <th>3</th>\n",
       "      <td>2.0</td>\n",
       "      <td>2.0</td>\n",
       "      <td>1250.0</td>\n",
       "      <td>2</td>\n",
       "      <td>3200.000000</td>\n",
       "      <td>1</td>\n",
       "      <td>0</td>\n",
       "      <td>0</td>\n",
       "      <td>1</td>\n",
       "      <td>0</td>\n",
       "      <td>...</td>\n",
       "      <td>0</td>\n",
       "      <td>0</td>\n",
       "      <td>0</td>\n",
       "      <td>0</td>\n",
       "      <td>0</td>\n",
       "      <td>0</td>\n",
       "      <td>0</td>\n",
       "      <td>0</td>\n",
       "      <td>0</td>\n",
       "      <td>0</td>\n",
       "    </tr>\n",
       "    <tr>\n",
       "      <th>4</th>\n",
       "      <td>2.0</td>\n",
       "      <td>2.0</td>\n",
       "      <td>1200.0</td>\n",
       "      <td>2</td>\n",
       "      <td>6916.666667</td>\n",
       "      <td>0</td>\n",
       "      <td>0</td>\n",
       "      <td>1</td>\n",
       "      <td>1</td>\n",
       "      <td>0</td>\n",
       "      <td>...</td>\n",
       "      <td>0</td>\n",
       "      <td>0</td>\n",
       "      <td>0</td>\n",
       "      <td>0</td>\n",
       "      <td>0</td>\n",
       "      <td>0</td>\n",
       "      <td>0</td>\n",
       "      <td>0</td>\n",
       "      <td>0</td>\n",
       "      <td>0</td>\n",
       "    </tr>\n",
       "  </tbody>\n",
       "</table>\n",
       "<p>5 rows × 107 columns</p>\n",
       "</div>"
      ],
      "text/plain": [
       "   bath  balcony  total_sqft_int  bhk  price_per_sqft  \\\n",
       "0   3.0      2.0          1672.0    3     8971.291866   \n",
       "1   3.0      3.0          1750.0    3     8514.285714   \n",
       "2   3.0      2.0          1750.0    3     8571.428571   \n",
       "3   2.0      2.0          1250.0    2     3200.000000   \n",
       "4   2.0      2.0          1200.0    2     6916.666667   \n",
       "\n",
       "   area_typeSuper built-up  Area  area_typeBuilt-up  Area  \\\n",
       "0                              1                        0   \n",
       "1                              0                        1   \n",
       "2                              1                        0   \n",
       "3                              1                        0   \n",
       "4                              0                        0   \n",
       "\n",
       "   area_typePlot  Area  availability_Ready To Move  location_Whitefield  ...  \\\n",
       "0                    0                           1                    0  ...   \n",
       "1                    0                           1                    0  ...   \n",
       "2                    0                           1                    0  ...   \n",
       "3                    0                           1                    0  ...   \n",
       "4                    1                           1                    0  ...   \n",
       "\n",
       "   location_Kalena Agrahara  location_Horamavu Agara  location_Vidyaranyapura  \\\n",
       "0                         0                        0                        0   \n",
       "1                         0                        0                        0   \n",
       "2                         0                        0                        0   \n",
       "3                         0                        0                        0   \n",
       "4                         0                        0                        0   \n",
       "\n",
       "   location_BTM 2nd Stage  location_Hebbal Kempapura  location_Hosur Road  \\\n",
       "0                       0                          0                    0   \n",
       "1                       0                          0                    0   \n",
       "2                       0                          0                    0   \n",
       "3                       0                          0                    0   \n",
       "4                       0                          0                    0   \n",
       "\n",
       "   location_Horamavu Banaswadi  location_Domlur  location_Mahadevpura  \\\n",
       "0                            0                0                     0   \n",
       "1                            0                0                     0   \n",
       "2                            0                0                     0   \n",
       "3                            0                0                     0   \n",
       "4                            0                0                     0   \n",
       "\n",
       "   location_Tumkur Road  \n",
       "0                     0  \n",
       "1                     0  \n",
       "2                     0  \n",
       "3                     0  \n",
       "4                     0  \n",
       "\n",
       "[5 rows x 107 columns]"
      ]
     },
     "execution_count": 24,
     "metadata": {},
     "output_type": "execute_result"
    }
   ],
   "source": [
    "x.head()"
   ]
  },
  {
   "cell_type": "code",
   "execution_count": 25,
   "id": "f51459f9-3b35-475e-bbbe-e4c1be6d657c",
   "metadata": {},
   "outputs": [
    {
     "data": {
      "text/plain": [
       "0    150.0\n",
       "1    149.0\n",
       "2    150.0\n",
       "3     40.0\n",
       "4     83.0\n",
       "Name: price, dtype: float64"
      ]
     },
     "execution_count": 25,
     "metadata": {},
     "output_type": "execute_result"
    }
   ],
   "source": [
    "y.head()"
   ]
  },
  {
   "cell_type": "code",
   "execution_count": 26,
   "id": "4360fcaa-d06a-469b-b5a0-cb7459ab5469",
   "metadata": {},
   "outputs": [
    {
     "data": {
      "text/plain": [
       "((4984, 107), (4984,))"
      ]
     },
     "execution_count": 26,
     "metadata": {},
     "output_type": "execute_result"
    }
   ],
   "source": [
    "from sklearn.model_selection import train_test_split\n",
    "xtrain,xtest,ytrain,ytest=train_test_split(x,y,test_size=0.3)\n",
    "xtrain.shape,ytrain.shape"
   ]
  },
  {
   "cell_type": "code",
   "execution_count": 27,
   "id": "ffaf56bb-2fe1-41f2-9f10-8918a9bb7c6c",
   "metadata": {},
   "outputs": [
    {
     "data": {
      "text/plain": [
       "((2136, 107), (2136,))"
      ]
     },
     "execution_count": 27,
     "metadata": {},
     "output_type": "execute_result"
    }
   ],
   "source": [
    "xtest.shape,ytest.shape"
   ]
  },
  {
   "cell_type": "code",
   "execution_count": 28,
   "id": "5767052d-e000-470e-8618-557f47fdffb4",
   "metadata": {},
   "outputs": [],
   "source": [
    "from sklearn.preprocessing import StandardScaler"
   ]
  },
  {
   "cell_type": "code",
   "execution_count": 29,
   "id": "3da275f7-4c73-4063-b9ce-c7c32b67c836",
   "metadata": {},
   "outputs": [
    {
     "data": {
      "text/html": [
       "<style>#sk-container-id-2 {color: black;}#sk-container-id-2 pre{padding: 0;}#sk-container-id-2 div.sk-toggleable {background-color: white;}#sk-container-id-2 label.sk-toggleable__label {cursor: pointer;display: block;width: 100%;margin-bottom: 0;padding: 0.3em;box-sizing: border-box;text-align: center;}#sk-container-id-2 label.sk-toggleable__label-arrow:before {content: \"▸\";float: left;margin-right: 0.25em;color: #696969;}#sk-container-id-2 label.sk-toggleable__label-arrow:hover:before {color: black;}#sk-container-id-2 div.sk-estimator:hover label.sk-toggleable__label-arrow:before {color: black;}#sk-container-id-2 div.sk-toggleable__content {max-height: 0;max-width: 0;overflow: hidden;text-align: left;background-color: #f0f8ff;}#sk-container-id-2 div.sk-toggleable__content pre {margin: 0.2em;color: black;border-radius: 0.25em;background-color: #f0f8ff;}#sk-container-id-2 input.sk-toggleable__control:checked~div.sk-toggleable__content {max-height: 200px;max-width: 100%;overflow: auto;}#sk-container-id-2 input.sk-toggleable__control:checked~label.sk-toggleable__label-arrow:before {content: \"▾\";}#sk-container-id-2 div.sk-estimator input.sk-toggleable__control:checked~label.sk-toggleable__label {background-color: #d4ebff;}#sk-container-id-2 div.sk-label input.sk-toggleable__control:checked~label.sk-toggleable__label {background-color: #d4ebff;}#sk-container-id-2 input.sk-hidden--visually {border: 0;clip: rect(1px 1px 1px 1px);clip: rect(1px, 1px, 1px, 1px);height: 1px;margin: -1px;overflow: hidden;padding: 0;position: absolute;width: 1px;}#sk-container-id-2 div.sk-estimator {font-family: monospace;background-color: #f0f8ff;border: 1px dotted black;border-radius: 0.25em;box-sizing: border-box;margin-bottom: 0.5em;}#sk-container-id-2 div.sk-estimator:hover {background-color: #d4ebff;}#sk-container-id-2 div.sk-parallel-item::after {content: \"\";width: 100%;border-bottom: 1px solid gray;flex-grow: 1;}#sk-container-id-2 div.sk-label:hover label.sk-toggleable__label {background-color: #d4ebff;}#sk-container-id-2 div.sk-serial::before {content: \"\";position: absolute;border-left: 1px solid gray;box-sizing: border-box;top: 0;bottom: 0;left: 50%;z-index: 0;}#sk-container-id-2 div.sk-serial {display: flex;flex-direction: column;align-items: center;background-color: white;padding-right: 0.2em;padding-left: 0.2em;position: relative;}#sk-container-id-2 div.sk-item {position: relative;z-index: 1;}#sk-container-id-2 div.sk-parallel {display: flex;align-items: stretch;justify-content: center;background-color: white;position: relative;}#sk-container-id-2 div.sk-item::before, #sk-container-id-2 div.sk-parallel-item::before {content: \"\";position: absolute;border-left: 1px solid gray;box-sizing: border-box;top: 0;bottom: 0;left: 50%;z-index: -1;}#sk-container-id-2 div.sk-parallel-item {display: flex;flex-direction: column;z-index: 1;position: relative;background-color: white;}#sk-container-id-2 div.sk-parallel-item:first-child::after {align-self: flex-end;width: 50%;}#sk-container-id-2 div.sk-parallel-item:last-child::after {align-self: flex-start;width: 50%;}#sk-container-id-2 div.sk-parallel-item:only-child::after {width: 0;}#sk-container-id-2 div.sk-dashed-wrapped {border: 1px dashed gray;margin: 0 0.4em 0.5em 0.4em;box-sizing: border-box;padding-bottom: 0.4em;background-color: white;}#sk-container-id-2 div.sk-label label {font-family: monospace;font-weight: bold;display: inline-block;line-height: 1.2em;}#sk-container-id-2 div.sk-label-container {text-align: center;}#sk-container-id-2 div.sk-container {/* jupyter's `normalize.less` sets `[hidden] { display: none; }` but bootstrap.min.css set `[hidden] { display: none !important; }` so we also need the `!important` here to be able to override the default hidden behavior on the sphinx rendered scikit-learn.org. See: https://github.com/scikit-learn/scikit-learn/issues/21755 */display: inline-block !important;position: relative;}#sk-container-id-2 div.sk-text-repr-fallback {display: none;}</style><div id=\"sk-container-id-2\" class=\"sk-top-container\"><div class=\"sk-text-repr-fallback\"><pre>StandardScaler()</pre><b>In a Jupyter environment, please rerun this cell to show the HTML representation or trust the notebook. <br />On GitHub, the HTML representation is unable to render, please try loading this page with nbviewer.org.</b></div><div class=\"sk-container\" hidden><div class=\"sk-item\"><div class=\"sk-estimator sk-toggleable\"><input class=\"sk-toggleable__control sk-hidden--visually\" id=\"sk-estimator-id-2\" type=\"checkbox\" checked><label for=\"sk-estimator-id-2\" class=\"sk-toggleable__label sk-toggleable__label-arrow\">StandardScaler</label><div class=\"sk-toggleable__content\"><pre>StandardScaler()</pre></div></div></div></div></div>"
      ],
      "text/plain": [
       "StandardScaler()"
      ]
     },
     "execution_count": 29,
     "metadata": {},
     "output_type": "execute_result"
    }
   ],
   "source": [
    "sc=StandardScaler()\n",
    "sc.fit(xtrain)\n",
    "sc"
   ]
  },
  {
   "cell_type": "code",
   "execution_count": 37,
   "id": "d2cc315e-0d8d-40c1-976a-3fc672acb0e4",
   "metadata": {},
   "outputs": [],
   "source": [
    "xtrain=sc.transform(xtrain)\n",
    "xtest=sc.transform(xtest)"
   ]
  },
  {
   "cell_type": "code",
   "execution_count": 38,
   "id": "c7e83e65-4e61-42e8-a90f-8d28caa7c9e7",
   "metadata": {},
   "outputs": [],
   "source": [
    "from sklearn.linear_model import LinearRegression"
   ]
  },
  {
   "cell_type": "code",
   "execution_count": 39,
   "id": "b9d84d66-17fd-4de0-96d9-abf21c7f8c1e",
   "metadata": {},
   "outputs": [
    {
     "data": {
      "text/plain": [
       "array([-2.84503565e+00, -5.67359168e-01,  8.46800508e+01, -1.23174483e+01,\n",
       "        6.21439562e+01, -3.06549646e+00, -4.18530467e+00, -4.43730364e+00,\n",
       "       -1.19962437e+00, -4.27201351e+00, -2.43586300e+00,  5.56916025e-01,\n",
       "       -1.12267146e+00,  1.88924960e+00,  1.38985643e-01, -1.45910625e+00,\n",
       "       -3.16874638e-01,  2.25573487e+00, -1.41870485e+00,  2.27864936e+00,\n",
       "       -3.28730031e+00, -1.77641523e+00, -1.08757579e+00,  2.53770252e-03,\n",
       "        8.62037791e-01,  1.60061069e+00, -4.88804209e+00, -1.26798950e+00,\n",
       "       -5.87739082e-01,  1.39789430e+00, -7.26465008e-01, -7.20450749e-01,\n",
       "        5.64492826e-01, -1.50387574e+00, -1.53241110e-01, -1.37145725e+00,\n",
       "        4.64550388e-01,  8.17791168e-01,  3.67808768e+00,  4.50463272e-02,\n",
       "        1.43453276e-01,  6.43910807e-01, -7.26190541e-03,  9.82654782e-01,\n",
       "       -1.59608589e+00, -3.19088622e+00, -3.24564489e-01, -2.67562563e-02,\n",
       "       -5.44629995e-01, -5.42239499e-01, -1.14309883e+00,  1.99661667e-01,\n",
       "        9.45855001e-01, -5.49043952e-01, -9.20585011e-01,  1.42844322e+00,\n",
       "        2.32257302e+00, -3.75296126e-01, -2.58970171e+00, -1.25740693e+00,\n",
       "        8.89748476e-01, -4.89565544e-01, -2.94684951e-01, -5.98026797e-03,\n",
       "       -1.98942839e+00,  1.65754606e+00, -8.67510902e-01, -1.14610068e+00,\n",
       "       -7.95055531e-01,  2.69509077e-01, -8.64173216e-01, -6.39247283e-02,\n",
       "       -1.93734866e+00, -1.26309950e+00,  3.44818515e-01,  1.14280526e+00,\n",
       "       -1.36511582e+00,  2.91448027e-01, -3.99532799e-01, -2.08651396e+00,\n",
       "        5.47226376e-01,  1.25068526e-01,  1.98078603e-01,  2.72498403e+00,\n",
       "        1.87545392e+00, -9.32977468e-01, -2.97575291e-01,  2.56718702e+00,\n",
       "        3.47049212e-02, -2.05020808e-01, -1.20573641e-02,  1.47666468e+00,\n",
       "        9.56675114e-01, -1.20889738e+00,  2.70446870e-01, -8.10014769e-01,\n",
       "        1.48487220e+00,  2.04050656e-01,  1.12610920e+00,  4.11245800e-01,\n",
       "       -4.66896236e-01, -1.36647918e+00, -6.70858098e-01,  5.98589053e-01,\n",
       "       -1.97175104e+00,  2.69630619e-01, -5.23619925e-01])"
      ]
     },
     "execution_count": 39,
     "metadata": {},
     "output_type": "execute_result"
    }
   ],
   "source": [
    "lr=LinearRegression()\n",
    "lr.fit(xtrain,ytrain)\n",
    "lr.coef_"
   ]
  },
  {
   "cell_type": "code",
   "execution_count": 40,
   "id": "c2096817-25a6-4587-98cd-ca7eb8157713",
   "metadata": {},
   "outputs": [
    {
     "data": {
      "text/plain": [
       "96.35620686195828"
      ]
     },
     "execution_count": 40,
     "metadata": {},
     "output_type": "execute_result"
    }
   ],
   "source": [
    "lr.intercept_"
   ]
  },
  {
   "cell_type": "code",
   "execution_count": 41,
   "id": "e922f1ab-1d6a-4dbb-9be3-e3c867abfa5e",
   "metadata": {},
   "outputs": [
    {
     "data": {
      "text/plain": [
       "True"
      ]
     },
     "execution_count": 41,
     "metadata": {},
     "output_type": "execute_result"
    }
   ],
   "source": [
    "lr.copy_X"
   ]
  },
  {
   "cell_type": "code",
   "execution_count": 43,
   "id": "133b8899-584c-4ab3-bea0-6b58e5ca8fbf",
   "metadata": {},
   "outputs": [
    {
     "data": {
      "text/plain": [
       "array([-0.44678541,  0.55357008, -0.05222028, -0.55310133, -0.18060427])"
      ]
     },
     "execution_count": 43,
     "metadata": {},
     "output_type": "execute_result"
    }
   ],
   "source": [
    "xtest_sc[0,:5]"
   ]
  },
  {
   "cell_type": "code",
   "execution_count": 44,
   "id": "b2fa4b3f-2665-4cab-adac-621bf1d5b99a",
   "metadata": {},
   "outputs": [
    {
     "data": {
      "text/plain": [
       "array([ 91.53828111,  54.17792344,  40.65965715,  99.24053486,\n",
       "       130.30470687])"
      ]
     },
     "execution_count": 44,
     "metadata": {},
     "output_type": "execute_result"
    }
   ],
   "source": [
    "lr.predict(xtest[0:5])"
   ]
  },
  {
   "cell_type": "code",
   "execution_count": 45,
   "id": "9141058f-7bd8-4ee3-a2b2-b8b9931a4e06",
   "metadata": {},
   "outputs": [
    {
     "data": {
      "text/plain": [
       "0.8203923640647853"
      ]
     },
     "execution_count": 45,
     "metadata": {},
     "output_type": "execute_result"
    }
   ],
   "source": [
    " lr.score(xtest,ytest)"
   ]
  },
  {
   "cell_type": "code",
   "execution_count": 46,
   "id": "eb6ba742-7dda-4554-9a5b-404bdc345bdd",
   "metadata": {},
   "outputs": [],
   "source": [
    "y_pred=lr.predict(xtest)"
   ]
  },
  {
   "cell_type": "code",
   "execution_count": 48,
   "id": "2078347b-6fda-4a23-8641-e51d81d6f04c",
   "metadata": {},
   "outputs": [
    {
     "data": {
      "text/plain": [
       "0.8203923640647853"
      ]
     },
     "execution_count": 48,
     "metadata": {},
     "output_type": "execute_result"
    }
   ],
   "source": [
    "from sklearn.metrics import r2_score\n",
    "r2_score(ytest,y_pred)"
   ]
  },
  {
   "cell_type": "code",
   "execution_count": 51,
   "id": "94b073f9-d0fd-4a2a-99fd-4b5337e764df",
   "metadata": {},
   "outputs": [],
   "source": [
    "from sklearn.preprocessing import PolynomialFeatures\n",
    "pf=PolynomialFeatures(degree=2)\n",
    "pf.fit(xtrain)\n",
    "xtrain_pf=pf.transform(xtrain)\n",
    "xtest_pf=pf.transform(xtest)"
   ]
  },
  {
   "cell_type": "code",
   "execution_count": 52,
   "id": "d9ee6be5-47c5-443e-9faa-c1283d3b8904",
   "metadata": {},
   "outputs": [
    {
     "data": {
      "text/plain": [
       "((4984, 5886), (2136, 5886))"
      ]
     },
     "execution_count": 52,
     "metadata": {},
     "output_type": "execute_result"
    }
   ],
   "source": [
    "xtrain_pf.shape,xtest_pf.shape"
   ]
  },
  {
   "cell_type": "code",
   "execution_count": 53,
   "id": "c1892579-ba8f-4299-9dfd-57ed8207b686",
   "metadata": {},
   "outputs": [
    {
     "data": {
      "text/html": [
       "<style>#sk-container-id-3 {color: black;}#sk-container-id-3 pre{padding: 0;}#sk-container-id-3 div.sk-toggleable {background-color: white;}#sk-container-id-3 label.sk-toggleable__label {cursor: pointer;display: block;width: 100%;margin-bottom: 0;padding: 0.3em;box-sizing: border-box;text-align: center;}#sk-container-id-3 label.sk-toggleable__label-arrow:before {content: \"▸\";float: left;margin-right: 0.25em;color: #696969;}#sk-container-id-3 label.sk-toggleable__label-arrow:hover:before {color: black;}#sk-container-id-3 div.sk-estimator:hover label.sk-toggleable__label-arrow:before {color: black;}#sk-container-id-3 div.sk-toggleable__content {max-height: 0;max-width: 0;overflow: hidden;text-align: left;background-color: #f0f8ff;}#sk-container-id-3 div.sk-toggleable__content pre {margin: 0.2em;color: black;border-radius: 0.25em;background-color: #f0f8ff;}#sk-container-id-3 input.sk-toggleable__control:checked~div.sk-toggleable__content {max-height: 200px;max-width: 100%;overflow: auto;}#sk-container-id-3 input.sk-toggleable__control:checked~label.sk-toggleable__label-arrow:before {content: \"▾\";}#sk-container-id-3 div.sk-estimator input.sk-toggleable__control:checked~label.sk-toggleable__label {background-color: #d4ebff;}#sk-container-id-3 div.sk-label input.sk-toggleable__control:checked~label.sk-toggleable__label {background-color: #d4ebff;}#sk-container-id-3 input.sk-hidden--visually {border: 0;clip: rect(1px 1px 1px 1px);clip: rect(1px, 1px, 1px, 1px);height: 1px;margin: -1px;overflow: hidden;padding: 0;position: absolute;width: 1px;}#sk-container-id-3 div.sk-estimator {font-family: monospace;background-color: #f0f8ff;border: 1px dotted black;border-radius: 0.25em;box-sizing: border-box;margin-bottom: 0.5em;}#sk-container-id-3 div.sk-estimator:hover {background-color: #d4ebff;}#sk-container-id-3 div.sk-parallel-item::after {content: \"\";width: 100%;border-bottom: 1px solid gray;flex-grow: 1;}#sk-container-id-3 div.sk-label:hover label.sk-toggleable__label {background-color: #d4ebff;}#sk-container-id-3 div.sk-serial::before {content: \"\";position: absolute;border-left: 1px solid gray;box-sizing: border-box;top: 0;bottom: 0;left: 50%;z-index: 0;}#sk-container-id-3 div.sk-serial {display: flex;flex-direction: column;align-items: center;background-color: white;padding-right: 0.2em;padding-left: 0.2em;position: relative;}#sk-container-id-3 div.sk-item {position: relative;z-index: 1;}#sk-container-id-3 div.sk-parallel {display: flex;align-items: stretch;justify-content: center;background-color: white;position: relative;}#sk-container-id-3 div.sk-item::before, #sk-container-id-3 div.sk-parallel-item::before {content: \"\";position: absolute;border-left: 1px solid gray;box-sizing: border-box;top: 0;bottom: 0;left: 50%;z-index: -1;}#sk-container-id-3 div.sk-parallel-item {display: flex;flex-direction: column;z-index: 1;position: relative;background-color: white;}#sk-container-id-3 div.sk-parallel-item:first-child::after {align-self: flex-end;width: 50%;}#sk-container-id-3 div.sk-parallel-item:last-child::after {align-self: flex-start;width: 50%;}#sk-container-id-3 div.sk-parallel-item:only-child::after {width: 0;}#sk-container-id-3 div.sk-dashed-wrapped {border: 1px dashed gray;margin: 0 0.4em 0.5em 0.4em;box-sizing: border-box;padding-bottom: 0.4em;background-color: white;}#sk-container-id-3 div.sk-label label {font-family: monospace;font-weight: bold;display: inline-block;line-height: 1.2em;}#sk-container-id-3 div.sk-label-container {text-align: center;}#sk-container-id-3 div.sk-container {/* jupyter's `normalize.less` sets `[hidden] { display: none; }` but bootstrap.min.css set `[hidden] { display: none !important; }` so we also need the `!important` here to be able to override the default hidden behavior on the sphinx rendered scikit-learn.org. See: https://github.com/scikit-learn/scikit-learn/issues/21755 */display: inline-block !important;position: relative;}#sk-container-id-3 div.sk-text-repr-fallback {display: none;}</style><div id=\"sk-container-id-3\" class=\"sk-top-container\"><div class=\"sk-text-repr-fallback\"><pre>LinearRegression()</pre><b>In a Jupyter environment, please rerun this cell to show the HTML representation or trust the notebook. <br />On GitHub, the HTML representation is unable to render, please try loading this page with nbviewer.org.</b></div><div class=\"sk-container\" hidden><div class=\"sk-item\"><div class=\"sk-estimator sk-toggleable\"><input class=\"sk-toggleable__control sk-hidden--visually\" id=\"sk-estimator-id-3\" type=\"checkbox\" checked><label for=\"sk-estimator-id-3\" class=\"sk-toggleable__label sk-toggleable__label-arrow\">LinearRegression</label><div class=\"sk-toggleable__content\"><pre>LinearRegression()</pre></div></div></div></div></div>"
      ],
      "text/plain": [
       "LinearRegression()"
      ]
     },
     "execution_count": 53,
     "metadata": {},
     "output_type": "execute_result"
    }
   ],
   "source": [
    "lr.fit(xtrain_pf,ytrain)"
   ]
  },
  {
   "cell_type": "code",
   "execution_count": 54,
   "id": "d12a282b-7ac0-45f5-a512-23a1937c2c7f",
   "metadata": {},
   "outputs": [
    {
     "data": {
      "text/plain": [
       "0.998555220001114"
      ]
     },
     "execution_count": 54,
     "metadata": {},
     "output_type": "execute_result"
    }
   ],
   "source": [
    "lr.score(xtest_pf,ytest)"
   ]
  },
  {
   "cell_type": "code",
   "execution_count": 70,
   "id": "6fa6de65-87ed-4afe-a3e6-4ec4e3fde8ac",
   "metadata": {},
   "outputs": [
    {
     "data": {
      "text/plain": [
       "array([78.])"
      ]
     },
     "execution_count": 70,
     "metadata": {},
     "output_type": "execute_result"
    }
   ],
   "source": [
    "lr.predict([xtest_pf[0,:]])"
   ]
  },
  {
   "cell_type": "code",
   "execution_count": 71,
   "id": "e428ea0f-1c1c-456c-99c0-9a7cbb5b49a0",
   "metadata": {},
   "outputs": [
    {
     "data": {
      "text/plain": [
       "array([ 78.,  58.,  50., ..., 100., 130.,  77.])"
      ]
     },
     "execution_count": 71,
     "metadata": {},
     "output_type": "execute_result"
    }
   ],
   "source": [
    "y_pred=lr.predict(xtest_pf)\n",
    "y_pred"
   ]
  },
  {
   "cell_type": "code",
   "execution_count": 72,
   "id": "bae1c25b-b4cd-43d9-94e9-b5c2da392218",
   "metadata": {},
   "outputs": [
    {
     "data": {
      "text/plain": [
       "3864     78.0\n",
       "3011     58.0\n",
       "1033     50.0\n",
       "4433     93.0\n",
       "2518    110.0\n",
       "        ...  \n",
       "2807     57.0\n",
       "4472     50.0\n",
       "2927    100.0\n",
       "6719    130.0\n",
       "6904     77.0\n",
       "Name: price, Length: 2136, dtype: float64"
      ]
     },
     "execution_count": 72,
     "metadata": {},
     "output_type": "execute_result"
    }
   ],
   "source": [
    "ytest"
   ]
  },
  {
   "cell_type": "code",
   "execution_count": 73,
   "id": "2cda9887-0427-4910-9e14-101f4a1a8b9e",
   "metadata": {},
   "outputs": [
    {
     "data": {
      "text/plain": [
       "(18.1105900106789, 4.255653887556988)"
      ]
     },
     "execution_count": 73,
     "metadata": {},
     "output_type": "execute_result"
    }
   ],
   "source": [
    "from sklearn.metrics import mean_squared_error\n",
    "mse=mean_squared_error(ytest,y_pred)\n",
    "rmse=np.sqrt(mse)\n",
    "mse,rmse"
   ]
  },
  {
   "cell_type": "code",
   "execution_count": null,
   "id": "e8a07310-ce28-4fad-a576-4f10ab8339ef",
   "metadata": {},
   "outputs": [],
   "source": []
  },
  {
   "cell_type": "code",
   "execution_count": 74,
   "id": "8c073fbf-a657-4297-a377-5c857b130af6",
   "metadata": {},
   "outputs": [],
   "source": [
    "import pandas as pd\n",
    "import seaborn as sns\n",
    "import numpy as np\n",
    "import matplotlib.pyplot as plt"
   ]
  },
  {
   "cell_type": "code",
   "execution_count": 75,
   "id": "ee4d79f4-a3f2-4975-a7cd-c52ac5179518",
   "metadata": {},
   "outputs": [
    {
     "data": {
      "text/plain": [
       "((1460, 81), (1459, 80))"
      ]
     },
     "execution_count": 75,
     "metadata": {},
     "output_type": "execute_result"
    }
   ],
   "source": [
    "train=pd.read_csv('train.csv')\n",
    "test=pd.read_csv('test.csv')\n",
    "train.shape,test.shape"
   ]
  },
  {
   "cell_type": "code",
   "execution_count": 76,
   "id": "d4d3d8d6-6a13-4af0-8412-5b2ca61d43e9",
   "metadata": {},
   "outputs": [
    {
     "data": {
      "text/html": [
       "<div>\n",
       "<style scoped>\n",
       "    .dataframe tbody tr th:only-of-type {\n",
       "        vertical-align: middle;\n",
       "    }\n",
       "\n",
       "    .dataframe tbody tr th {\n",
       "        vertical-align: top;\n",
       "    }\n",
       "\n",
       "    .dataframe thead th {\n",
       "        text-align: right;\n",
       "    }\n",
       "</style>\n",
       "<table border=\"1\" class=\"dataframe\">\n",
       "  <thead>\n",
       "    <tr style=\"text-align: right;\">\n",
       "      <th></th>\n",
       "      <th>Id</th>\n",
       "      <th>MSSubClass</th>\n",
       "      <th>MSZoning</th>\n",
       "      <th>LotFrontage</th>\n",
       "      <th>LotArea</th>\n",
       "      <th>Street</th>\n",
       "      <th>Alley</th>\n",
       "      <th>LotShape</th>\n",
       "      <th>LandContour</th>\n",
       "      <th>Utilities</th>\n",
       "      <th>...</th>\n",
       "      <th>PoolArea</th>\n",
       "      <th>PoolQC</th>\n",
       "      <th>Fence</th>\n",
       "      <th>MiscFeature</th>\n",
       "      <th>MiscVal</th>\n",
       "      <th>MoSold</th>\n",
       "      <th>YrSold</th>\n",
       "      <th>SaleType</th>\n",
       "      <th>SaleCondition</th>\n",
       "      <th>SalePrice</th>\n",
       "    </tr>\n",
       "  </thead>\n",
       "  <tbody>\n",
       "    <tr>\n",
       "      <th>0</th>\n",
       "      <td>1</td>\n",
       "      <td>60</td>\n",
       "      <td>RL</td>\n",
       "      <td>65.0</td>\n",
       "      <td>8450</td>\n",
       "      <td>Pave</td>\n",
       "      <td>NaN</td>\n",
       "      <td>Reg</td>\n",
       "      <td>Lvl</td>\n",
       "      <td>AllPub</td>\n",
       "      <td>...</td>\n",
       "      <td>0</td>\n",
       "      <td>NaN</td>\n",
       "      <td>NaN</td>\n",
       "      <td>NaN</td>\n",
       "      <td>0</td>\n",
       "      <td>2</td>\n",
       "      <td>2008</td>\n",
       "      <td>WD</td>\n",
       "      <td>Normal</td>\n",
       "      <td>208500</td>\n",
       "    </tr>\n",
       "    <tr>\n",
       "      <th>1</th>\n",
       "      <td>2</td>\n",
       "      <td>20</td>\n",
       "      <td>RL</td>\n",
       "      <td>80.0</td>\n",
       "      <td>9600</td>\n",
       "      <td>Pave</td>\n",
       "      <td>NaN</td>\n",
       "      <td>Reg</td>\n",
       "      <td>Lvl</td>\n",
       "      <td>AllPub</td>\n",
       "      <td>...</td>\n",
       "      <td>0</td>\n",
       "      <td>NaN</td>\n",
       "      <td>NaN</td>\n",
       "      <td>NaN</td>\n",
       "      <td>0</td>\n",
       "      <td>5</td>\n",
       "      <td>2007</td>\n",
       "      <td>WD</td>\n",
       "      <td>Normal</td>\n",
       "      <td>181500</td>\n",
       "    </tr>\n",
       "    <tr>\n",
       "      <th>2</th>\n",
       "      <td>3</td>\n",
       "      <td>60</td>\n",
       "      <td>RL</td>\n",
       "      <td>68.0</td>\n",
       "      <td>11250</td>\n",
       "      <td>Pave</td>\n",
       "      <td>NaN</td>\n",
       "      <td>IR1</td>\n",
       "      <td>Lvl</td>\n",
       "      <td>AllPub</td>\n",
       "      <td>...</td>\n",
       "      <td>0</td>\n",
       "      <td>NaN</td>\n",
       "      <td>NaN</td>\n",
       "      <td>NaN</td>\n",
       "      <td>0</td>\n",
       "      <td>9</td>\n",
       "      <td>2008</td>\n",
       "      <td>WD</td>\n",
       "      <td>Normal</td>\n",
       "      <td>223500</td>\n",
       "    </tr>\n",
       "    <tr>\n",
       "      <th>3</th>\n",
       "      <td>4</td>\n",
       "      <td>70</td>\n",
       "      <td>RL</td>\n",
       "      <td>60.0</td>\n",
       "      <td>9550</td>\n",
       "      <td>Pave</td>\n",
       "      <td>NaN</td>\n",
       "      <td>IR1</td>\n",
       "      <td>Lvl</td>\n",
       "      <td>AllPub</td>\n",
       "      <td>...</td>\n",
       "      <td>0</td>\n",
       "      <td>NaN</td>\n",
       "      <td>NaN</td>\n",
       "      <td>NaN</td>\n",
       "      <td>0</td>\n",
       "      <td>2</td>\n",
       "      <td>2006</td>\n",
       "      <td>WD</td>\n",
       "      <td>Abnorml</td>\n",
       "      <td>140000</td>\n",
       "    </tr>\n",
       "    <tr>\n",
       "      <th>4</th>\n",
       "      <td>5</td>\n",
       "      <td>60</td>\n",
       "      <td>RL</td>\n",
       "      <td>84.0</td>\n",
       "      <td>14260</td>\n",
       "      <td>Pave</td>\n",
       "      <td>NaN</td>\n",
       "      <td>IR1</td>\n",
       "      <td>Lvl</td>\n",
       "      <td>AllPub</td>\n",
       "      <td>...</td>\n",
       "      <td>0</td>\n",
       "      <td>NaN</td>\n",
       "      <td>NaN</td>\n",
       "      <td>NaN</td>\n",
       "      <td>0</td>\n",
       "      <td>12</td>\n",
       "      <td>2008</td>\n",
       "      <td>WD</td>\n",
       "      <td>Normal</td>\n",
       "      <td>250000</td>\n",
       "    </tr>\n",
       "  </tbody>\n",
       "</table>\n",
       "<p>5 rows × 81 columns</p>\n",
       "</div>"
      ],
      "text/plain": [
       "   Id  MSSubClass MSZoning  LotFrontage  LotArea Street Alley LotShape  \\\n",
       "0   1          60       RL         65.0     8450   Pave   NaN      Reg   \n",
       "1   2          20       RL         80.0     9600   Pave   NaN      Reg   \n",
       "2   3          60       RL         68.0    11250   Pave   NaN      IR1   \n",
       "3   4          70       RL         60.0     9550   Pave   NaN      IR1   \n",
       "4   5          60       RL         84.0    14260   Pave   NaN      IR1   \n",
       "\n",
       "  LandContour Utilities  ... PoolArea PoolQC Fence MiscFeature MiscVal MoSold  \\\n",
       "0         Lvl    AllPub  ...        0    NaN   NaN         NaN       0      2   \n",
       "1         Lvl    AllPub  ...        0    NaN   NaN         NaN       0      5   \n",
       "2         Lvl    AllPub  ...        0    NaN   NaN         NaN       0      9   \n",
       "3         Lvl    AllPub  ...        0    NaN   NaN         NaN       0      2   \n",
       "4         Lvl    AllPub  ...        0    NaN   NaN         NaN       0     12   \n",
       "\n",
       "  YrSold  SaleType  SaleCondition  SalePrice  \n",
       "0   2008        WD         Normal     208500  \n",
       "1   2007        WD         Normal     181500  \n",
       "2   2008        WD         Normal     223500  \n",
       "3   2006        WD        Abnorml     140000  \n",
       "4   2008        WD         Normal     250000  \n",
       "\n",
       "[5 rows x 81 columns]"
      ]
     },
     "execution_count": 76,
     "metadata": {},
     "output_type": "execute_result"
    }
   ],
   "source": [
    "train.head()"
   ]
  },
  {
   "cell_type": "code",
   "execution_count": 77,
   "id": "76e36c4c-38f7-4386-8478-caa77fbe4324",
   "metadata": {},
   "outputs": [
    {
     "data": {
      "text/html": [
       "<div>\n",
       "<style scoped>\n",
       "    .dataframe tbody tr th:only-of-type {\n",
       "        vertical-align: middle;\n",
       "    }\n",
       "\n",
       "    .dataframe tbody tr th {\n",
       "        vertical-align: top;\n",
       "    }\n",
       "\n",
       "    .dataframe thead th {\n",
       "        text-align: right;\n",
       "    }\n",
       "</style>\n",
       "<table border=\"1\" class=\"dataframe\">\n",
       "  <thead>\n",
       "    <tr style=\"text-align: right;\">\n",
       "      <th></th>\n",
       "      <th>Id</th>\n",
       "      <th>MSSubClass</th>\n",
       "      <th>MSZoning</th>\n",
       "      <th>LotFrontage</th>\n",
       "      <th>LotArea</th>\n",
       "      <th>Street</th>\n",
       "      <th>Alley</th>\n",
       "      <th>LotShape</th>\n",
       "      <th>LandContour</th>\n",
       "      <th>Utilities</th>\n",
       "      <th>...</th>\n",
       "      <th>ScreenPorch</th>\n",
       "      <th>PoolArea</th>\n",
       "      <th>PoolQC</th>\n",
       "      <th>Fence</th>\n",
       "      <th>MiscFeature</th>\n",
       "      <th>MiscVal</th>\n",
       "      <th>MoSold</th>\n",
       "      <th>YrSold</th>\n",
       "      <th>SaleType</th>\n",
       "      <th>SaleCondition</th>\n",
       "    </tr>\n",
       "  </thead>\n",
       "  <tbody>\n",
       "    <tr>\n",
       "      <th>0</th>\n",
       "      <td>1461</td>\n",
       "      <td>20</td>\n",
       "      <td>RH</td>\n",
       "      <td>80.0</td>\n",
       "      <td>11622</td>\n",
       "      <td>Pave</td>\n",
       "      <td>NaN</td>\n",
       "      <td>Reg</td>\n",
       "      <td>Lvl</td>\n",
       "      <td>AllPub</td>\n",
       "      <td>...</td>\n",
       "      <td>120</td>\n",
       "      <td>0</td>\n",
       "      <td>NaN</td>\n",
       "      <td>MnPrv</td>\n",
       "      <td>NaN</td>\n",
       "      <td>0</td>\n",
       "      <td>6</td>\n",
       "      <td>2010</td>\n",
       "      <td>WD</td>\n",
       "      <td>Normal</td>\n",
       "    </tr>\n",
       "    <tr>\n",
       "      <th>1</th>\n",
       "      <td>1462</td>\n",
       "      <td>20</td>\n",
       "      <td>RL</td>\n",
       "      <td>81.0</td>\n",
       "      <td>14267</td>\n",
       "      <td>Pave</td>\n",
       "      <td>NaN</td>\n",
       "      <td>IR1</td>\n",
       "      <td>Lvl</td>\n",
       "      <td>AllPub</td>\n",
       "      <td>...</td>\n",
       "      <td>0</td>\n",
       "      <td>0</td>\n",
       "      <td>NaN</td>\n",
       "      <td>NaN</td>\n",
       "      <td>Gar2</td>\n",
       "      <td>12500</td>\n",
       "      <td>6</td>\n",
       "      <td>2010</td>\n",
       "      <td>WD</td>\n",
       "      <td>Normal</td>\n",
       "    </tr>\n",
       "    <tr>\n",
       "      <th>2</th>\n",
       "      <td>1463</td>\n",
       "      <td>60</td>\n",
       "      <td>RL</td>\n",
       "      <td>74.0</td>\n",
       "      <td>13830</td>\n",
       "      <td>Pave</td>\n",
       "      <td>NaN</td>\n",
       "      <td>IR1</td>\n",
       "      <td>Lvl</td>\n",
       "      <td>AllPub</td>\n",
       "      <td>...</td>\n",
       "      <td>0</td>\n",
       "      <td>0</td>\n",
       "      <td>NaN</td>\n",
       "      <td>MnPrv</td>\n",
       "      <td>NaN</td>\n",
       "      <td>0</td>\n",
       "      <td>3</td>\n",
       "      <td>2010</td>\n",
       "      <td>WD</td>\n",
       "      <td>Normal</td>\n",
       "    </tr>\n",
       "    <tr>\n",
       "      <th>3</th>\n",
       "      <td>1464</td>\n",
       "      <td>60</td>\n",
       "      <td>RL</td>\n",
       "      <td>78.0</td>\n",
       "      <td>9978</td>\n",
       "      <td>Pave</td>\n",
       "      <td>NaN</td>\n",
       "      <td>IR1</td>\n",
       "      <td>Lvl</td>\n",
       "      <td>AllPub</td>\n",
       "      <td>...</td>\n",
       "      <td>0</td>\n",
       "      <td>0</td>\n",
       "      <td>NaN</td>\n",
       "      <td>NaN</td>\n",
       "      <td>NaN</td>\n",
       "      <td>0</td>\n",
       "      <td>6</td>\n",
       "      <td>2010</td>\n",
       "      <td>WD</td>\n",
       "      <td>Normal</td>\n",
       "    </tr>\n",
       "    <tr>\n",
       "      <th>4</th>\n",
       "      <td>1465</td>\n",
       "      <td>120</td>\n",
       "      <td>RL</td>\n",
       "      <td>43.0</td>\n",
       "      <td>5005</td>\n",
       "      <td>Pave</td>\n",
       "      <td>NaN</td>\n",
       "      <td>IR1</td>\n",
       "      <td>HLS</td>\n",
       "      <td>AllPub</td>\n",
       "      <td>...</td>\n",
       "      <td>144</td>\n",
       "      <td>0</td>\n",
       "      <td>NaN</td>\n",
       "      <td>NaN</td>\n",
       "      <td>NaN</td>\n",
       "      <td>0</td>\n",
       "      <td>1</td>\n",
       "      <td>2010</td>\n",
       "      <td>WD</td>\n",
       "      <td>Normal</td>\n",
       "    </tr>\n",
       "  </tbody>\n",
       "</table>\n",
       "<p>5 rows × 80 columns</p>\n",
       "</div>"
      ],
      "text/plain": [
       "     Id  MSSubClass MSZoning  LotFrontage  LotArea Street Alley LotShape  \\\n",
       "0  1461          20       RH         80.0    11622   Pave   NaN      Reg   \n",
       "1  1462          20       RL         81.0    14267   Pave   NaN      IR1   \n",
       "2  1463          60       RL         74.0    13830   Pave   NaN      IR1   \n",
       "3  1464          60       RL         78.0     9978   Pave   NaN      IR1   \n",
       "4  1465         120       RL         43.0     5005   Pave   NaN      IR1   \n",
       "\n",
       "  LandContour Utilities  ... ScreenPorch PoolArea PoolQC  Fence MiscFeature  \\\n",
       "0         Lvl    AllPub  ...         120        0    NaN  MnPrv         NaN   \n",
       "1         Lvl    AllPub  ...           0        0    NaN    NaN        Gar2   \n",
       "2         Lvl    AllPub  ...           0        0    NaN  MnPrv         NaN   \n",
       "3         Lvl    AllPub  ...           0        0    NaN    NaN         NaN   \n",
       "4         HLS    AllPub  ...         144        0    NaN    NaN         NaN   \n",
       "\n",
       "  MiscVal MoSold  YrSold  SaleType  SaleCondition  \n",
       "0       0      6    2010        WD         Normal  \n",
       "1   12500      6    2010        WD         Normal  \n",
       "2       0      3    2010        WD         Normal  \n",
       "3       0      6    2010        WD         Normal  \n",
       "4       0      1    2010        WD         Normal  \n",
       "\n",
       "[5 rows x 80 columns]"
      ]
     },
     "execution_count": 77,
     "metadata": {},
     "output_type": "execute_result"
    }
   ],
   "source": [
    "test.head()"
   ]
  },
  {
   "cell_type": "code",
   "execution_count": 78,
   "id": "b3bd9508-0643-4d51-8a10-afce9fb1a98f",
   "metadata": {},
   "outputs": [],
   "source": [
    "df=pd.concat((train,test))\n",
    "temp_df=df.copy()"
   ]
  },
  {
   "cell_type": "code",
   "execution_count": 79,
   "id": "5c6fac16-c7c5-44b5-aa60-f33a36d3a4a2",
   "metadata": {},
   "outputs": [
    {
     "data": {
      "text/plain": [
       "(2919, 81)"
      ]
     },
     "execution_count": 79,
     "metadata": {},
     "output_type": "execute_result"
    }
   ],
   "source": [
    "temp_df.shape"
   ]
  },
  {
   "cell_type": "code",
   "execution_count": 80,
   "id": "1d555eee-dbf0-4b10-9497-96d1d6e57025",
   "metadata": {},
   "outputs": [
    {
     "name": "stdout",
     "output_type": "stream",
     "text": [
      "<class 'pandas.core.frame.DataFrame'>\n",
      "Index: 2919 entries, 0 to 1458\n",
      "Data columns (total 81 columns):\n",
      " #   Column         Non-Null Count  Dtype  \n",
      "---  ------         --------------  -----  \n",
      " 0   Id             2919 non-null   int64  \n",
      " 1   MSSubClass     2919 non-null   int64  \n",
      " 2   MSZoning       2915 non-null   object \n",
      " 3   LotFrontage    2433 non-null   float64\n",
      " 4   LotArea        2919 non-null   int64  \n",
      " 5   Street         2919 non-null   object \n",
      " 6   Alley          198 non-null    object \n",
      " 7   LotShape       2919 non-null   object \n",
      " 8   LandContour    2919 non-null   object \n",
      " 9   Utilities      2917 non-null   object \n",
      " 10  LotConfig      2919 non-null   object \n",
      " 11  LandSlope      2919 non-null   object \n",
      " 12  Neighborhood   2919 non-null   object \n",
      " 13  Condition1     2919 non-null   object \n",
      " 14  Condition2     2919 non-null   object \n",
      " 15  BldgType       2919 non-null   object \n",
      " 16  HouseStyle     2919 non-null   object \n",
      " 17  OverallQual    2919 non-null   int64  \n",
      " 18  OverallCond    2919 non-null   int64  \n",
      " 19  YearBuilt      2919 non-null   int64  \n",
      " 20  YearRemodAdd   2919 non-null   int64  \n",
      " 21  RoofStyle      2919 non-null   object \n",
      " 22  RoofMatl       2919 non-null   object \n",
      " 23  Exterior1st    2918 non-null   object \n",
      " 24  Exterior2nd    2918 non-null   object \n",
      " 25  MasVnrType     1153 non-null   object \n",
      " 26  MasVnrArea     2896 non-null   float64\n",
      " 27  ExterQual      2919 non-null   object \n",
      " 28  ExterCond      2919 non-null   object \n",
      " 29  Foundation     2919 non-null   object \n",
      " 30  BsmtQual       2838 non-null   object \n",
      " 31  BsmtCond       2837 non-null   object \n",
      " 32  BsmtExposure   2837 non-null   object \n",
      " 33  BsmtFinType1   2840 non-null   object \n",
      " 34  BsmtFinSF1     2918 non-null   float64\n",
      " 35  BsmtFinType2   2839 non-null   object \n",
      " 36  BsmtFinSF2     2918 non-null   float64\n",
      " 37  BsmtUnfSF      2918 non-null   float64\n",
      " 38  TotalBsmtSF    2918 non-null   float64\n",
      " 39  Heating        2919 non-null   object \n",
      " 40  HeatingQC      2919 non-null   object \n",
      " 41  CentralAir     2919 non-null   object \n",
      " 42  Electrical     2918 non-null   object \n",
      " 43  1stFlrSF       2919 non-null   int64  \n",
      " 44  2ndFlrSF       2919 non-null   int64  \n",
      " 45  LowQualFinSF   2919 non-null   int64  \n",
      " 46  GrLivArea      2919 non-null   int64  \n",
      " 47  BsmtFullBath   2917 non-null   float64\n",
      " 48  BsmtHalfBath   2917 non-null   float64\n",
      " 49  FullBath       2919 non-null   int64  \n",
      " 50  HalfBath       2919 non-null   int64  \n",
      " 51  BedroomAbvGr   2919 non-null   int64  \n",
      " 52  KitchenAbvGr   2919 non-null   int64  \n",
      " 53  KitchenQual    2918 non-null   object \n",
      " 54  TotRmsAbvGrd   2919 non-null   int64  \n",
      " 55  Functional     2917 non-null   object \n",
      " 56  Fireplaces     2919 non-null   int64  \n",
      " 57  FireplaceQu    1499 non-null   object \n",
      " 58  GarageType     2762 non-null   object \n",
      " 59  GarageYrBlt    2760 non-null   float64\n",
      " 60  GarageFinish   2760 non-null   object \n",
      " 61  GarageCars     2918 non-null   float64\n",
      " 62  GarageArea     2918 non-null   float64\n",
      " 63  GarageQual     2760 non-null   object \n",
      " 64  GarageCond     2760 non-null   object \n",
      " 65  PavedDrive     2919 non-null   object \n",
      " 66  WoodDeckSF     2919 non-null   int64  \n",
      " 67  OpenPorchSF    2919 non-null   int64  \n",
      " 68  EnclosedPorch  2919 non-null   int64  \n",
      " 69  3SsnPorch      2919 non-null   int64  \n",
      " 70  ScreenPorch    2919 non-null   int64  \n",
      " 71  PoolArea       2919 non-null   int64  \n",
      " 72  PoolQC         10 non-null     object \n",
      " 73  Fence          571 non-null    object \n",
      " 74  MiscFeature    105 non-null    object \n",
      " 75  MiscVal        2919 non-null   int64  \n",
      " 76  MoSold         2919 non-null   int64  \n",
      " 77  YrSold         2919 non-null   int64  \n",
      " 78  SaleType       2918 non-null   object \n",
      " 79  SaleCondition  2919 non-null   object \n",
      " 80  SalePrice      1460 non-null   float64\n",
      "dtypes: float64(12), int64(26), object(43)\n",
      "memory usage: 1.8+ MB\n"
     ]
    }
   ],
   "source": [
    "df.info()"
   ]
  },
  {
   "cell_type": "code",
   "execution_count": 81,
   "id": "f23681a7-eedd-4bc3-aabb-0e36bde116d1",
   "metadata": {},
   "outputs": [
    {
     "data": {
      "text/html": [
       "<div>\n",
       "<style scoped>\n",
       "    .dataframe tbody tr th:only-of-type {\n",
       "        vertical-align: middle;\n",
       "    }\n",
       "\n",
       "    .dataframe tbody tr th {\n",
       "        vertical-align: top;\n",
       "    }\n",
       "\n",
       "    .dataframe thead th {\n",
       "        text-align: right;\n",
       "    }\n",
       "</style>\n",
       "<table border=\"1\" class=\"dataframe\">\n",
       "  <thead>\n",
       "    <tr style=\"text-align: right;\">\n",
       "      <th></th>\n",
       "      <th>Id</th>\n",
       "      <th>MSSubClass</th>\n",
       "      <th>LotFrontage</th>\n",
       "      <th>LotArea</th>\n",
       "      <th>OverallQual</th>\n",
       "      <th>OverallCond</th>\n",
       "      <th>YearBuilt</th>\n",
       "      <th>YearRemodAdd</th>\n",
       "      <th>MasVnrArea</th>\n",
       "      <th>BsmtFinSF1</th>\n",
       "      <th>...</th>\n",
       "      <th>WoodDeckSF</th>\n",
       "      <th>OpenPorchSF</th>\n",
       "      <th>EnclosedPorch</th>\n",
       "      <th>3SsnPorch</th>\n",
       "      <th>ScreenPorch</th>\n",
       "      <th>PoolArea</th>\n",
       "      <th>MiscVal</th>\n",
       "      <th>MoSold</th>\n",
       "      <th>YrSold</th>\n",
       "      <th>SalePrice</th>\n",
       "    </tr>\n",
       "  </thead>\n",
       "  <tbody>\n",
       "    <tr>\n",
       "      <th>count</th>\n",
       "      <td>2919.000000</td>\n",
       "      <td>2919.000000</td>\n",
       "      <td>2433.000000</td>\n",
       "      <td>2919.000000</td>\n",
       "      <td>2919.000000</td>\n",
       "      <td>2919.000000</td>\n",
       "      <td>2919.000000</td>\n",
       "      <td>2919.000000</td>\n",
       "      <td>2896.000000</td>\n",
       "      <td>2918.000000</td>\n",
       "      <td>...</td>\n",
       "      <td>2919.000000</td>\n",
       "      <td>2919.000000</td>\n",
       "      <td>2919.000000</td>\n",
       "      <td>2919.000000</td>\n",
       "      <td>2919.000000</td>\n",
       "      <td>2919.000000</td>\n",
       "      <td>2919.000000</td>\n",
       "      <td>2919.000000</td>\n",
       "      <td>2919.000000</td>\n",
       "      <td>1460.000000</td>\n",
       "    </tr>\n",
       "    <tr>\n",
       "      <th>mean</th>\n",
       "      <td>1460.000000</td>\n",
       "      <td>57.137718</td>\n",
       "      <td>69.305795</td>\n",
       "      <td>10168.114080</td>\n",
       "      <td>6.089072</td>\n",
       "      <td>5.564577</td>\n",
       "      <td>1971.312778</td>\n",
       "      <td>1984.264474</td>\n",
       "      <td>102.201312</td>\n",
       "      <td>441.423235</td>\n",
       "      <td>...</td>\n",
       "      <td>93.709832</td>\n",
       "      <td>47.486811</td>\n",
       "      <td>23.098321</td>\n",
       "      <td>2.602261</td>\n",
       "      <td>16.062350</td>\n",
       "      <td>2.251799</td>\n",
       "      <td>50.825968</td>\n",
       "      <td>6.213087</td>\n",
       "      <td>2007.792737</td>\n",
       "      <td>180921.195890</td>\n",
       "    </tr>\n",
       "    <tr>\n",
       "      <th>std</th>\n",
       "      <td>842.787043</td>\n",
       "      <td>42.517628</td>\n",
       "      <td>23.344905</td>\n",
       "      <td>7886.996359</td>\n",
       "      <td>1.409947</td>\n",
       "      <td>1.113131</td>\n",
       "      <td>30.291442</td>\n",
       "      <td>20.894344</td>\n",
       "      <td>179.334253</td>\n",
       "      <td>455.610826</td>\n",
       "      <td>...</td>\n",
       "      <td>126.526589</td>\n",
       "      <td>67.575493</td>\n",
       "      <td>64.244246</td>\n",
       "      <td>25.188169</td>\n",
       "      <td>56.184365</td>\n",
       "      <td>35.663946</td>\n",
       "      <td>567.402211</td>\n",
       "      <td>2.714762</td>\n",
       "      <td>1.314964</td>\n",
       "      <td>79442.502883</td>\n",
       "    </tr>\n",
       "    <tr>\n",
       "      <th>min</th>\n",
       "      <td>1.000000</td>\n",
       "      <td>20.000000</td>\n",
       "      <td>21.000000</td>\n",
       "      <td>1300.000000</td>\n",
       "      <td>1.000000</td>\n",
       "      <td>1.000000</td>\n",
       "      <td>1872.000000</td>\n",
       "      <td>1950.000000</td>\n",
       "      <td>0.000000</td>\n",
       "      <td>0.000000</td>\n",
       "      <td>...</td>\n",
       "      <td>0.000000</td>\n",
       "      <td>0.000000</td>\n",
       "      <td>0.000000</td>\n",
       "      <td>0.000000</td>\n",
       "      <td>0.000000</td>\n",
       "      <td>0.000000</td>\n",
       "      <td>0.000000</td>\n",
       "      <td>1.000000</td>\n",
       "      <td>2006.000000</td>\n",
       "      <td>34900.000000</td>\n",
       "    </tr>\n",
       "    <tr>\n",
       "      <th>25%</th>\n",
       "      <td>730.500000</td>\n",
       "      <td>20.000000</td>\n",
       "      <td>59.000000</td>\n",
       "      <td>7478.000000</td>\n",
       "      <td>5.000000</td>\n",
       "      <td>5.000000</td>\n",
       "      <td>1953.500000</td>\n",
       "      <td>1965.000000</td>\n",
       "      <td>0.000000</td>\n",
       "      <td>0.000000</td>\n",
       "      <td>...</td>\n",
       "      <td>0.000000</td>\n",
       "      <td>0.000000</td>\n",
       "      <td>0.000000</td>\n",
       "      <td>0.000000</td>\n",
       "      <td>0.000000</td>\n",
       "      <td>0.000000</td>\n",
       "      <td>0.000000</td>\n",
       "      <td>4.000000</td>\n",
       "      <td>2007.000000</td>\n",
       "      <td>129975.000000</td>\n",
       "    </tr>\n",
       "    <tr>\n",
       "      <th>50%</th>\n",
       "      <td>1460.000000</td>\n",
       "      <td>50.000000</td>\n",
       "      <td>68.000000</td>\n",
       "      <td>9453.000000</td>\n",
       "      <td>6.000000</td>\n",
       "      <td>5.000000</td>\n",
       "      <td>1973.000000</td>\n",
       "      <td>1993.000000</td>\n",
       "      <td>0.000000</td>\n",
       "      <td>368.500000</td>\n",
       "      <td>...</td>\n",
       "      <td>0.000000</td>\n",
       "      <td>26.000000</td>\n",
       "      <td>0.000000</td>\n",
       "      <td>0.000000</td>\n",
       "      <td>0.000000</td>\n",
       "      <td>0.000000</td>\n",
       "      <td>0.000000</td>\n",
       "      <td>6.000000</td>\n",
       "      <td>2008.000000</td>\n",
       "      <td>163000.000000</td>\n",
       "    </tr>\n",
       "    <tr>\n",
       "      <th>75%</th>\n",
       "      <td>2189.500000</td>\n",
       "      <td>70.000000</td>\n",
       "      <td>80.000000</td>\n",
       "      <td>11570.000000</td>\n",
       "      <td>7.000000</td>\n",
       "      <td>6.000000</td>\n",
       "      <td>2001.000000</td>\n",
       "      <td>2004.000000</td>\n",
       "      <td>164.000000</td>\n",
       "      <td>733.000000</td>\n",
       "      <td>...</td>\n",
       "      <td>168.000000</td>\n",
       "      <td>70.000000</td>\n",
       "      <td>0.000000</td>\n",
       "      <td>0.000000</td>\n",
       "      <td>0.000000</td>\n",
       "      <td>0.000000</td>\n",
       "      <td>0.000000</td>\n",
       "      <td>8.000000</td>\n",
       "      <td>2009.000000</td>\n",
       "      <td>214000.000000</td>\n",
       "    </tr>\n",
       "    <tr>\n",
       "      <th>max</th>\n",
       "      <td>2919.000000</td>\n",
       "      <td>190.000000</td>\n",
       "      <td>313.000000</td>\n",
       "      <td>215245.000000</td>\n",
       "      <td>10.000000</td>\n",
       "      <td>9.000000</td>\n",
       "      <td>2010.000000</td>\n",
       "      <td>2010.000000</td>\n",
       "      <td>1600.000000</td>\n",
       "      <td>5644.000000</td>\n",
       "      <td>...</td>\n",
       "      <td>1424.000000</td>\n",
       "      <td>742.000000</td>\n",
       "      <td>1012.000000</td>\n",
       "      <td>508.000000</td>\n",
       "      <td>576.000000</td>\n",
       "      <td>800.000000</td>\n",
       "      <td>17000.000000</td>\n",
       "      <td>12.000000</td>\n",
       "      <td>2010.000000</td>\n",
       "      <td>755000.000000</td>\n",
       "    </tr>\n",
       "  </tbody>\n",
       "</table>\n",
       "<p>8 rows × 38 columns</p>\n",
       "</div>"
      ],
      "text/plain": [
       "                Id   MSSubClass  LotFrontage        LotArea  OverallQual  \\\n",
       "count  2919.000000  2919.000000  2433.000000    2919.000000  2919.000000   \n",
       "mean   1460.000000    57.137718    69.305795   10168.114080     6.089072   \n",
       "std     842.787043    42.517628    23.344905    7886.996359     1.409947   \n",
       "min       1.000000    20.000000    21.000000    1300.000000     1.000000   \n",
       "25%     730.500000    20.000000    59.000000    7478.000000     5.000000   \n",
       "50%    1460.000000    50.000000    68.000000    9453.000000     6.000000   \n",
       "75%    2189.500000    70.000000    80.000000   11570.000000     7.000000   \n",
       "max    2919.000000   190.000000   313.000000  215245.000000    10.000000   \n",
       "\n",
       "       OverallCond    YearBuilt  YearRemodAdd   MasVnrArea   BsmtFinSF1  ...  \\\n",
       "count  2919.000000  2919.000000   2919.000000  2896.000000  2918.000000  ...   \n",
       "mean      5.564577  1971.312778   1984.264474   102.201312   441.423235  ...   \n",
       "std       1.113131    30.291442     20.894344   179.334253   455.610826  ...   \n",
       "min       1.000000  1872.000000   1950.000000     0.000000     0.000000  ...   \n",
       "25%       5.000000  1953.500000   1965.000000     0.000000     0.000000  ...   \n",
       "50%       5.000000  1973.000000   1993.000000     0.000000   368.500000  ...   \n",
       "75%       6.000000  2001.000000   2004.000000   164.000000   733.000000  ...   \n",
       "max       9.000000  2010.000000   2010.000000  1600.000000  5644.000000  ...   \n",
       "\n",
       "        WoodDeckSF  OpenPorchSF  EnclosedPorch    3SsnPorch  ScreenPorch  \\\n",
       "count  2919.000000  2919.000000    2919.000000  2919.000000  2919.000000   \n",
       "mean     93.709832    47.486811      23.098321     2.602261    16.062350   \n",
       "std     126.526589    67.575493      64.244246    25.188169    56.184365   \n",
       "min       0.000000     0.000000       0.000000     0.000000     0.000000   \n",
       "25%       0.000000     0.000000       0.000000     0.000000     0.000000   \n",
       "50%       0.000000    26.000000       0.000000     0.000000     0.000000   \n",
       "75%     168.000000    70.000000       0.000000     0.000000     0.000000   \n",
       "max    1424.000000   742.000000    1012.000000   508.000000   576.000000   \n",
       "\n",
       "          PoolArea       MiscVal       MoSold       YrSold      SalePrice  \n",
       "count  2919.000000   2919.000000  2919.000000  2919.000000    1460.000000  \n",
       "mean      2.251799     50.825968     6.213087  2007.792737  180921.195890  \n",
       "std      35.663946    567.402211     2.714762     1.314964   79442.502883  \n",
       "min       0.000000      0.000000     1.000000  2006.000000   34900.000000  \n",
       "25%       0.000000      0.000000     4.000000  2007.000000  129975.000000  \n",
       "50%       0.000000      0.000000     6.000000  2008.000000  163000.000000  \n",
       "75%       0.000000      0.000000     8.000000  2009.000000  214000.000000  \n",
       "max     800.000000  17000.000000    12.000000  2010.000000  755000.000000  \n",
       "\n",
       "[8 rows x 38 columns]"
      ]
     },
     "execution_count": 81,
     "metadata": {},
     "output_type": "execute_result"
    }
   ],
   "source": [
    "df.describe()"
   ]
  },
  {
   "cell_type": "code",
   "execution_count": 82,
   "id": "0dd291c8-e596-48e6-89b2-6918538a6fb9",
   "metadata": {},
   "outputs": [
    {
     "data": {
      "text/plain": [
       "Index(['Id', 'MSSubClass', 'LotFrontage', 'LotArea', 'OverallQual',\n",
       "       'OverallCond', 'YearBuilt', 'YearRemodAdd', 'MasVnrArea', 'BsmtFinSF1',\n",
       "       'BsmtFinSF2', 'BsmtUnfSF', 'TotalBsmtSF', '1stFlrSF', '2ndFlrSF',\n",
       "       'LowQualFinSF', 'GrLivArea', 'BsmtFullBath', 'BsmtHalfBath', 'FullBath',\n",
       "       'HalfBath', 'BedroomAbvGr', 'KitchenAbvGr', 'TotRmsAbvGrd',\n",
       "       'Fireplaces', 'GarageYrBlt', 'GarageCars', 'GarageArea', 'WoodDeckSF',\n",
       "       'OpenPorchSF', 'EnclosedPorch', '3SsnPorch', 'ScreenPorch', 'PoolArea',\n",
       "       'MiscVal', 'MoSold', 'YrSold', 'SalePrice'],\n",
       "      dtype='object')"
      ]
     },
     "execution_count": 82,
     "metadata": {},
     "output_type": "execute_result"
    }
   ],
   "source": [
    "df.select_dtypes(include=[int,float]).columns"
   ]
  },
  {
   "cell_type": "code",
   "execution_count": 83,
   "id": "e76065c2-9fa2-409a-b056-4f28ff687150",
   "metadata": {},
   "outputs": [
    {
     "data": {
      "text/plain": [
       "Index(['MSZoning', 'Street', 'Alley', 'LotShape', 'LandContour', 'Utilities',\n",
       "       'LotConfig', 'LandSlope', 'Neighborhood', 'Condition1', 'Condition2',\n",
       "       'BldgType', 'HouseStyle', 'RoofStyle', 'RoofMatl', 'Exterior1st',\n",
       "       'Exterior2nd', 'MasVnrType', 'ExterQual', 'ExterCond', 'Foundation',\n",
       "       'BsmtQual', 'BsmtCond', 'BsmtExposure', 'BsmtFinType1', 'BsmtFinType2',\n",
       "       'Heating', 'HeatingQC', 'CentralAir', 'Electrical', 'KitchenQual',\n",
       "       'Functional', 'FireplaceQu', 'GarageType', 'GarageFinish', 'GarageQual',\n",
       "       'GarageCond', 'PavedDrive', 'PoolQC', 'Fence', 'MiscFeature',\n",
       "       'SaleType', 'SaleCondition'],\n",
       "      dtype='object')"
      ]
     },
     "execution_count": 83,
     "metadata": {},
     "output_type": "execute_result"
    }
   ],
   "source": [
    "df.select_dtypes(include='object').columns"
   ]
  },
  {
   "cell_type": "code",
   "execution_count": 85,
   "id": "dc810a91-1985-4e08-bb0f-6c3fdbad30b8",
   "metadata": {},
   "outputs": [
    {
     "data": {
      "text/plain": [
       "<Axes: >"
      ]
     },
     "execution_count": 85,
     "metadata": {},
     "output_type": "execute_result"
    },
    {
     "data": {
      "image/png": "[encoded data removed]",
      "text/plain": [
       "<Figure size 1600x900 with 2 Axes>"
      ]
     },
     "metadata": {},
     "output_type": "display_data"
    }
   ],
   "source": [
    "plt.figure(figsize=(16,9))\n",
    "sns.heatmap(df.isnull())"
   ]
  },
  {
   "cell_type": "code",
   "execution_count": 86,
   "id": "e97013ca-f800-414b-ab4a-7e23f727982b",
   "metadata": {},
   "outputs": [
    {
     "data": {
      "text/plain": [
       "Id                0.000000\n",
       "MSSubClass        0.000000\n",
       "MSZoning          0.137033\n",
       "LotFrontage      16.649538\n",
       "LotArea           0.000000\n",
       "                   ...    \n",
       "MoSold            0.000000\n",
       "YrSold            0.000000\n",
       "SaleType          0.034258\n",
       "SaleCondition     0.000000\n",
       "SalePrice        49.982871\n",
       "Length: 81, dtype: float64"
      ]
     },
     "execution_count": 86,
     "metadata": {},
     "output_type": "execute_result"
    }
   ],
   "source": [
    "null_per=df.isnull().mean()*100\n",
    "null_per"
   ]
  },
  {
   "cell_type": "code",
   "execution_count": 87,
   "id": "e2abadb2-e3f6-4162-925d-f00fed05c143",
   "metadata": {},
   "outputs": [
    {
     "data": {
      "text/plain": [
       "Index(['Alley', 'MasVnrType', 'FireplaceQu', 'PoolQC', 'Fence', 'MiscFeature',\n",
       "       'SalePrice'],\n",
       "      dtype='object')"
      ]
     },
     "execution_count": 87,
     "metadata": {},
     "output_type": "execute_result"
    }
   ],
   "source": [
    "col_fror_frop=null_per[null_per>20].keys()\n",
    "col_fror_frop"
   ]
  },
  {
   "cell_type": "code",
   "execution_count": 90,
   "id": "a1cdc435-eeb2-45b2-a330-f710bdf9826e",
   "metadata": {},
   "outputs": [
    {
     "data": {
      "text/plain": [
       "(2919, 74)"
      ]
     },
     "execution_count": 90,
     "metadata": {},
     "output_type": "execute_result"
    }
   ],
   "source": [
    "df=df.drop(columns=col_fror_frop)\n",
    "df.shape"
   ]
  },
  {
   "cell_type": "code",
   "execution_count": 93,
   "id": "17715201-bd0d-423d-ad92-fad948aebe9d",
   "metadata": {},
   "outputs": [
    {
     "name": "stdout",
     "output_type": "stream",
     "text": [
      "Unique values of: Id (2919)\n",
      "[   1    2    3 ... 2917 2918 2919]\n",
      "\n",
      "Unique values of: MSSubClass (16)\n",
      "[ 60  20  70  50 190  45  90 120  30  85  80 160  75 180  40 150]\n",
      "\n",
      "Unique values of: MSZoning (6)\n",
      "['RL' 'RM' 'C (all)' 'FV' 'RH' nan]\n",
      "\n",
      "Unique values of: LotFrontage (129)\n",
      "[ 65.  80.  68.  60.  84.  85.  75.  nan  51.  50.  70.  91.  72.  66.\n",
      " 101.  57.  44. 110.  98.  47. 108. 112.  74. 115.  61.  48.  33.  52.\n",
      " 100.  24.  89.  63.  76.  81.  95.  69.  21.  32.  78. 121. 122.  40.\n",
      " 105.  73.  77.  64.  94.  34.  90.  55.  88.  82.  71. 120. 107.  92.\n",
      " 134.  62.  86. 141.  97.  54.  41.  79. 174.  99.  67.  83.  43. 103.\n",
      "  93.  30. 129. 140.  35.  37. 118.  87. 116. 150. 111.  49.  96.  59.\n",
      "  36.  56. 102.  58.  38. 109. 130.  53. 137.  45. 106. 104.  42.  39.\n",
      " 144. 114. 128. 149. 313. 168. 182. 138. 160. 152. 124. 153.  46.  26.\n",
      "  25. 119.  31.  28. 117. 113. 125. 135. 136.  22. 123. 195. 155. 126.\n",
      " 200. 131. 133.]\n",
      "\n",
      "Unique values of: LotArea (1951)\n",
      "[ 8450  9600 11250 ...  1894 20000 10441]\n",
      "\n",
      "Unique values of: Street (2)\n",
      "['Pave' 'Grvl']\n",
      "\n",
      "Unique values of: LotShape (4)\n",
      "['Reg' 'IR1' 'IR2' 'IR3']\n",
      "\n",
      "Unique values of: LandContour (4)\n",
      "['Lvl' 'Bnk' 'Low' 'HLS']\n",
      "\n",
      "Unique values of: Utilities (3)\n",
      "['AllPub' 'NoSeWa' nan]\n",
      "\n",
      "Unique values of: LotConfig (5)\n",
      "['Inside' 'FR2' 'Corner' 'CulDSac' 'FR3']\n",
      "\n",
      "Unique values of: LandSlope (3)\n",
      "['Gtl' 'Mod' 'Sev']\n",
      "\n",
      "Unique values of: Neighborhood (25)\n",
      "['CollgCr' 'Veenker' 'Crawfor' 'NoRidge' 'Mitchel' 'Somerst' 'NWAmes'\n",
      " 'OldTown' 'BrkSide' 'Sawyer' 'NridgHt' 'NAmes' 'SawyerW' 'IDOTRR'\n",
      " 'MeadowV' 'Edwards' 'Timber' 'Gilbert' 'StoneBr' 'ClearCr' 'NPkVill'\n",
      " 'Blmngtn' 'BrDale' 'SWISU' 'Blueste']\n",
      "\n",
      "Unique values of: Condition1 (9)\n",
      "['Norm' 'Feedr' 'PosN' 'Artery' 'RRAe' 'RRNn' 'RRAn' 'PosA' 'RRNe']\n",
      "\n",
      "Unique values of: Condition2 (8)\n",
      "['Norm' 'Artery' 'RRNn' 'Feedr' 'PosN' 'PosA' 'RRAn' 'RRAe']\n",
      "\n",
      "Unique values of: BldgType (5)\n",
      "['1Fam' '2fmCon' 'Duplex' 'TwnhsE' 'Twnhs']\n",
      "\n",
      "Unique values of: HouseStyle (8)\n",
      "['2Story' '1Story' '1.5Fin' '1.5Unf' 'SFoyer' 'SLvl' '2.5Unf' '2.5Fin']\n",
      "\n",
      "Unique values of: OverallQual (10)\n",
      "[ 7  6  8  5  9  4 10  3  1  2]\n",
      "\n",
      "Unique values of: OverallCond (9)\n",
      "[5 8 6 7 4 2 3 9 1]\n",
      "\n",
      "Unique values of: YearBuilt (118)\n",
      "[2003 1976 2001 1915 2000 1993 2004 1973 1931 1939 1965 2005 1962 2006\n",
      " 1960 1929 1970 1967 1958 1930 2002 1968 2007 1951 1957 1927 1920 1966\n",
      " 1959 1994 1954 1953 1955 1983 1975 1997 1934 1963 1981 1964 1999 1972\n",
      " 1921 1945 1982 1998 1956 1948 1910 1995 1991 2009 1950 1961 1977 1985\n",
      " 1979 1885 1919 1990 1969 1935 1988 1971 1952 1936 1923 1924 1984 1926\n",
      " 1940 1941 1987 1986 2008 1908 1892 1916 1932 1918 1912 1947 1925 1900\n",
      " 1980 1989 1992 1949 1880 1928 1978 1922 1996 2010 1946 1913 1937 1942\n",
      " 1938 1974 1893 1914 1906 1890 1898 1904 1882 1875 1911 1917 1872 1905\n",
      " 1907 1896 1902 1895 1879 1901]\n",
      "\n",
      "Unique values of: YearRemodAdd (61)\n",
      "[2003 1976 2002 1970 2000 1995 2005 1973 1950 1965 2006 1962 2007 1960\n",
      " 2001 1967 2004 2008 1997 1959 1990 1955 1983 1980 1966 1963 1987 1964\n",
      " 1972 1996 1998 1989 1953 1956 1968 1981 1992 2009 1982 1961 1993 1999\n",
      " 1985 1979 1977 1969 1958 1991 1971 1952 1975 2010 1984 1986 1994 1988\n",
      " 1954 1957 1951 1978 1974]\n",
      "\n",
      "Unique values of: RoofStyle (6)\n",
      "['Gable' 'Hip' 'Gambrel' 'Mansard' 'Flat' 'Shed']\n",
      "\n",
      "Unique values of: RoofMatl (8)\n",
      "['CompShg' 'WdShngl' 'Metal' 'WdShake' 'Membran' 'Tar&Grv' 'Roll'\n",
      " 'ClyTile']\n",
      "\n",
      "Unique values of: Exterior1st (16)\n",
      "['VinylSd' 'MetalSd' 'Wd Sdng' 'HdBoard' 'BrkFace' 'WdShing' 'CemntBd'\n",
      " 'Plywood' 'AsbShng' 'Stucco' 'BrkComm' 'AsphShn' 'Stone' 'ImStucc'\n",
      " 'CBlock' nan]\n",
      "\n",
      "Unique values of: Exterior2nd (17)\n",
      "['VinylSd' 'MetalSd' 'Wd Shng' 'HdBoard' 'Plywood' 'Wd Sdng' 'CmentBd'\n",
      " 'BrkFace' 'Stucco' 'AsbShng' 'Brk Cmn' 'ImStucc' 'AsphShn' 'Stone'\n",
      " 'Other' 'CBlock' nan]\n",
      "\n",
      "Unique values of: MasVnrArea (445)\n",
      "[1.960e+02 0.000e+00 1.620e+02 3.500e+02 1.860e+02 2.400e+02 2.860e+02\n",
      " 3.060e+02 2.120e+02 1.800e+02 3.800e+02 2.810e+02 6.400e+02 2.000e+02\n",
      " 2.460e+02 1.320e+02 6.500e+02 1.010e+02 4.120e+02 2.720e+02 4.560e+02\n",
      " 1.031e+03 1.780e+02 5.730e+02 3.440e+02 2.870e+02 1.670e+02 1.115e+03\n",
      " 4.000e+01 1.040e+02 5.760e+02 4.430e+02 4.680e+02 6.600e+01 2.200e+01\n",
      " 2.840e+02 7.600e+01 2.030e+02 6.800e+01 1.830e+02 4.800e+01 2.800e+01\n",
      " 3.360e+02 6.000e+02 7.680e+02 4.800e+02 2.200e+02 1.840e+02 1.129e+03\n",
      " 1.160e+02 1.350e+02 2.660e+02 8.500e+01 3.090e+02 1.360e+02 2.880e+02\n",
      " 7.000e+01 3.200e+02 5.000e+01 1.200e+02 4.360e+02 2.520e+02 8.400e+01\n",
      " 6.640e+02 2.260e+02 3.000e+02 6.530e+02 1.120e+02 4.910e+02 2.680e+02\n",
      " 7.480e+02 9.800e+01 2.750e+02 1.380e+02 2.050e+02 2.620e+02 1.280e+02\n",
      " 2.600e+02 1.530e+02 6.400e+01 3.120e+02 1.600e+01 9.220e+02 1.420e+02\n",
      " 2.900e+02 1.270e+02 5.060e+02 2.970e+02       nan 6.040e+02 2.540e+02\n",
      " 3.600e+01 1.020e+02 4.720e+02 4.810e+02 1.080e+02 3.020e+02 1.720e+02\n",
      " 3.990e+02 2.700e+02 4.600e+01 2.100e+02 1.740e+02 3.480e+02 3.150e+02\n",
      " 2.990e+02 3.400e+02 1.660e+02 7.200e+01 3.100e+01 3.400e+01 2.380e+02\n",
      " 1.600e+03 3.650e+02 5.600e+01 1.500e+02 2.780e+02 2.560e+02 2.250e+02\n",
      " 3.700e+02 3.880e+02 1.750e+02 2.960e+02 1.460e+02 1.130e+02 1.760e+02\n",
      " 6.160e+02 3.000e+01 1.060e+02 8.700e+02 3.620e+02 5.300e+02 5.000e+02\n",
      " 5.100e+02 2.470e+02 3.050e+02 2.550e+02 1.250e+02 1.000e+02 4.320e+02\n",
      " 1.260e+02 4.730e+02 7.400e+01 1.450e+02 2.320e+02 3.760e+02 4.200e+01\n",
      " 1.610e+02 1.100e+02 1.800e+01 2.240e+02 2.480e+02 8.000e+01 3.040e+02\n",
      " 2.150e+02 7.720e+02 4.350e+02 3.780e+02 5.620e+02 1.680e+02 8.900e+01\n",
      " 2.850e+02 3.600e+02 9.400e+01 3.330e+02 9.210e+02 7.620e+02 5.940e+02\n",
      " 2.190e+02 1.880e+02 4.790e+02 5.840e+02 1.820e+02 2.500e+02 2.920e+02\n",
      " 2.450e+02 2.070e+02 8.200e+01 9.700e+01 3.350e+02 2.080e+02 4.200e+02\n",
      " 1.700e+02 4.590e+02 2.800e+02 9.900e+01 1.920e+02 2.040e+02 2.330e+02\n",
      " 1.560e+02 4.520e+02 5.130e+02 2.610e+02 1.640e+02 2.590e+02 2.090e+02\n",
      " 2.630e+02 2.160e+02 3.510e+02 6.600e+02 3.810e+02 5.400e+01 5.280e+02\n",
      " 2.580e+02 4.640e+02 5.700e+01 1.470e+02 1.170e+03 2.930e+02 6.300e+02\n",
      " 4.660e+02 1.090e+02 4.100e+01 1.600e+02 2.890e+02 6.510e+02 1.690e+02\n",
      " 9.500e+01 4.420e+02 2.020e+02 3.380e+02 8.940e+02 3.280e+02 6.730e+02\n",
      " 6.030e+02 1.000e+00 3.750e+02 9.000e+01 3.800e+01 1.570e+02 1.100e+01\n",
      " 1.400e+02 1.300e+02 1.480e+02 8.600e+02 4.240e+02 1.047e+03 2.430e+02\n",
      " 8.160e+02 3.870e+02 2.230e+02 1.580e+02 1.370e+02 1.150e+02 1.890e+02\n",
      " 2.740e+02 1.170e+02 6.000e+01 1.220e+02 9.200e+01 4.150e+02 7.600e+02\n",
      " 2.700e+01 7.500e+01 3.610e+02 1.050e+02 3.420e+02 2.980e+02 5.410e+02\n",
      " 2.360e+02 1.440e+02 4.230e+02 4.400e+01 1.510e+02 9.750e+02 4.500e+02\n",
      " 2.300e+02 5.710e+02 2.400e+01 5.300e+01 2.060e+02 1.400e+01 3.240e+02\n",
      " 2.950e+02 3.960e+02 6.700e+01 1.540e+02 4.250e+02 4.500e+01 1.378e+03\n",
      " 3.370e+02 1.490e+02 1.430e+02 5.100e+01 1.710e+02 2.340e+02 6.300e+01\n",
      " 7.660e+02 3.200e+01 8.100e+01 1.630e+02 5.540e+02 2.180e+02 6.320e+02\n",
      " 1.140e+02 5.670e+02 3.590e+02 4.510e+02 6.210e+02 7.880e+02 8.600e+01\n",
      " 7.960e+02 3.910e+02 2.280e+02 8.800e+01 1.650e+02 4.280e+02 4.100e+02\n",
      " 5.640e+02 3.680e+02 3.180e+02 5.790e+02 6.500e+01 7.050e+02 4.080e+02\n",
      " 2.440e+02 1.230e+02 3.660e+02 7.310e+02 4.480e+02 2.940e+02 3.100e+02\n",
      " 2.370e+02 4.260e+02 9.600e+01 4.380e+02 1.940e+02 1.190e+02 2.000e+01\n",
      " 5.040e+02 4.920e+02 6.150e+02 1.095e+03 1.159e+03 2.650e+02 9.100e+01\n",
      " 7.710e+02 4.700e+01 1.770e+02 3.710e+02 4.300e+02 4.400e+02 2.290e+02\n",
      " 7.260e+02 4.180e+02 7.240e+02 3.830e+02 7.300e+02 4.700e+02 3.080e+02\n",
      " 6.340e+02 3.720e+02 1.980e+02 1.210e+02 2.640e+02 1.410e+02 2.830e+02\n",
      " 5.090e+02 2.170e+02 3.000e+00 6.570e+02 1.240e+02 4.440e+02 2.300e+01\n",
      " 2.420e+02 3.640e+02 3.520e+02 4.060e+02 4.020e+02 4.220e+02 3.560e+02\n",
      " 6.800e+02 1.110e+03 2.210e+02 7.140e+02 6.470e+02 1.290e+03 4.950e+02\n",
      " 5.680e+02 1.790e+02 1.050e+03 1.870e+02 5.200e+01 2.760e+02 3.900e+01\n",
      " 1.900e+02 2.510e+02 2.270e+02 1.340e+02 2.220e+02 5.800e+01 6.680e+02\n",
      " 6.740e+02 1.970e+02 7.100e+02 9.450e+02 5.490e+02 2.530e+02 4.000e+02\n",
      " 9.700e+02 5.020e+02 3.940e+02 2.350e+02 5.150e+02 5.260e+02 7.540e+02\n",
      " 3.530e+02 5.250e+02 8.700e+01 2.910e+02 6.900e+01 2.790e+02 3.230e+02\n",
      " 2.140e+02 5.190e+02 1.224e+03 6.520e+02 8.860e+02 9.020e+02 4.340e+02\n",
      " 6.620e+02 7.340e+02 5.500e+02 5.140e+02 3.850e+02 5.180e+02 5.720e+02\n",
      " 3.220e+02 8.770e+02 3.970e+02 7.380e+02 5.010e+02 1.180e+02 6.920e+02\n",
      " 3.320e+02 5.220e+02 3.790e+02 5.320e+02 6.200e+01 1.990e+02 3.550e+02\n",
      " 4.050e+02 3.270e+02 2.570e+02 3.820e+02]\n",
      "\n",
      "Unique values of: ExterQual (4)\n",
      "['Gd' 'TA' 'Ex' 'Fa']\n",
      "\n",
      "Unique values of: ExterCond (5)\n",
      "['TA' 'Gd' 'Fa' 'Po' 'Ex']\n",
      "\n",
      "Unique values of: Foundation (6)\n",
      "['PConc' 'CBlock' 'BrkTil' 'Wood' 'Slab' 'Stone']\n",
      "\n",
      "Unique values of: BsmtQual (5)\n",
      "['Gd' 'TA' 'Ex' nan 'Fa']\n",
      "\n",
      "Unique values of: BsmtCond (5)\n",
      "['TA' 'Gd' nan 'Fa' 'Po']\n",
      "\n",
      "Unique values of: BsmtExposure (5)\n",
      "['No' 'Gd' 'Mn' 'Av' nan]\n",
      "\n",
      "Unique values of: BsmtFinType1 (7)\n",
      "['GLQ' 'ALQ' 'Unf' 'Rec' 'BLQ' nan 'LwQ']\n",
      "\n",
      "Unique values of: BsmtFinSF1 (992)\n",
      "[7.060e+02 9.780e+02 4.860e+02 2.160e+02 6.550e+02 7.320e+02 1.369e+03\n",
      " 8.590e+02 0.000e+00 8.510e+02 9.060e+02 9.980e+02 7.370e+02 7.330e+02\n",
      " 5.780e+02 6.460e+02 5.040e+02 8.400e+02 1.880e+02 2.340e+02 1.218e+03\n",
      " 1.277e+03 1.018e+03 1.153e+03 1.213e+03 7.310e+02 6.430e+02 9.670e+02\n",
      " 7.470e+02 2.800e+02 1.790e+02 4.560e+02 1.351e+03 2.400e+01 7.630e+02\n",
      " 1.820e+02 1.040e+02 1.810e+03 3.840e+02 4.900e+02 6.490e+02 6.320e+02\n",
      " 9.410e+02 7.390e+02 9.120e+02 1.013e+03 6.030e+02 1.880e+03 5.650e+02\n",
      " 3.200e+02 4.620e+02 2.280e+02 3.360e+02 4.480e+02 1.201e+03 3.300e+01\n",
      " 5.880e+02 6.000e+02 7.130e+02 1.046e+03 6.480e+02 3.100e+02 1.162e+03\n",
      " 5.200e+02 1.080e+02 5.690e+02 1.200e+03 2.240e+02 7.050e+02 4.440e+02\n",
      " 2.500e+02 9.840e+02 3.500e+01 7.740e+02 4.190e+02 1.700e+02 1.470e+03\n",
      " 9.380e+02 5.700e+02 3.000e+02 1.200e+02 1.160e+02 5.120e+02 5.670e+02\n",
      " 4.450e+02 6.950e+02 4.050e+02 1.005e+03 6.680e+02 8.210e+02 4.320e+02\n",
      " 1.300e+03 5.070e+02 6.790e+02 1.332e+03 2.090e+02 6.800e+02 7.160e+02\n",
      " 1.400e+03 4.160e+02 4.290e+02 2.220e+02 5.700e+01 6.600e+02 1.016e+03\n",
      " 3.700e+02 3.510e+02 3.790e+02 1.288e+03 3.600e+02 6.390e+02 4.950e+02\n",
      " 2.880e+02 1.398e+03 4.770e+02 8.310e+02 1.904e+03 4.360e+02 3.520e+02\n",
      " 6.110e+02 1.086e+03 2.970e+02 6.260e+02 5.600e+02 3.900e+02 5.660e+02\n",
      " 1.126e+03 1.036e+03 1.088e+03 6.410e+02 6.170e+02 6.620e+02 3.120e+02\n",
      " 1.065e+03 7.870e+02 4.680e+02 3.600e+01 8.220e+02 3.780e+02 9.460e+02\n",
      " 3.410e+02 1.600e+01 5.500e+02 5.240e+02 5.600e+01 3.210e+02 8.420e+02\n",
      " 6.890e+02 6.250e+02 3.580e+02 4.020e+02 9.400e+01 1.078e+03 3.290e+02\n",
      " 9.290e+02 6.970e+02 1.573e+03 2.700e+02 9.220e+02 5.030e+02 1.334e+03\n",
      " 3.610e+02 6.720e+02 5.060e+02 7.140e+02 4.030e+02 7.510e+02 2.260e+02\n",
      " 6.200e+02 5.460e+02 3.920e+02 4.210e+02 9.050e+02 9.040e+02 4.300e+02\n",
      " 6.140e+02 4.500e+02 2.100e+02 2.920e+02 7.950e+02 1.285e+03 8.190e+02\n",
      " 4.200e+02 8.410e+02 2.810e+02 8.940e+02 1.464e+03 7.000e+02 2.620e+02\n",
      " 1.274e+03 5.180e+02 1.236e+03 4.250e+02 6.920e+02 9.870e+02 9.700e+02\n",
      " 2.800e+01 2.560e+02 1.619e+03 4.000e+01 8.460e+02 1.124e+03 7.200e+02\n",
      " 8.280e+02 1.249e+03 8.100e+02 2.130e+02 5.850e+02 1.290e+02 4.980e+02\n",
      " 1.270e+03 5.730e+02 1.410e+03 1.082e+03 2.360e+02 3.880e+02 3.340e+02\n",
      " 8.740e+02 9.560e+02 7.730e+02 3.990e+02 1.620e+02 7.120e+02 6.090e+02\n",
      " 3.710e+02 5.400e+02 7.200e+01 6.230e+02 4.280e+02 3.500e+02 2.980e+02\n",
      " 1.445e+03 2.180e+02 9.850e+02 6.310e+02 1.280e+03 2.410e+02 6.900e+02\n",
      " 2.660e+02 7.770e+02 8.120e+02 7.860e+02 1.116e+03 7.890e+02 1.056e+03\n",
      " 5.000e+01 1.128e+03 7.750e+02 1.309e+03 1.246e+03 9.860e+02 6.160e+02\n",
      " 1.518e+03 6.640e+02 3.870e+02 4.710e+02 3.850e+02 3.650e+02 1.767e+03\n",
      " 1.330e+02 6.420e+02 2.470e+02 3.310e+02 7.420e+02 1.606e+03 9.160e+02\n",
      " 1.850e+02 5.440e+02 5.530e+02 3.260e+02 7.780e+02 3.860e+02 4.260e+02\n",
      " 3.680e+02 4.590e+02 1.350e+03 1.196e+03 6.300e+02 9.940e+02 1.680e+02\n",
      " 1.261e+03 1.567e+03 2.990e+02 8.970e+02 6.070e+02 8.360e+02 5.150e+02\n",
      " 3.740e+02 1.231e+03 1.110e+02 3.560e+02 4.000e+02 6.980e+02 1.247e+03\n",
      " 2.570e+02 3.800e+02 2.700e+01 1.410e+02 9.910e+02 6.500e+02 5.210e+02\n",
      " 1.436e+03 2.260e+03 7.190e+02 3.770e+02 1.330e+03 3.480e+02 1.219e+03\n",
      " 7.830e+02 9.690e+02 6.730e+02 1.358e+03 1.260e+03 1.440e+02 5.840e+02\n",
      " 5.540e+02 1.002e+03 6.190e+02 1.800e+02 5.590e+02 3.080e+02 8.660e+02\n",
      " 8.950e+02 6.370e+02 6.040e+02 1.302e+03 1.071e+03 2.900e+02 7.280e+02\n",
      " 2.000e+00 1.441e+03 9.430e+02 2.310e+02 4.140e+02 3.490e+02 4.420e+02\n",
      " 3.280e+02 5.940e+02 8.160e+02 1.460e+03 1.324e+03 1.338e+03 6.850e+02\n",
      " 1.422e+03 1.283e+03 8.100e+01 4.540e+02 9.030e+02 6.050e+02 9.900e+02\n",
      " 2.060e+02 1.500e+02 4.570e+02 4.800e+01 8.710e+02 4.100e+01 6.740e+02\n",
      " 6.240e+02 4.800e+02 1.154e+03 7.380e+02 4.930e+02 1.121e+03 2.820e+02\n",
      " 5.000e+02 1.310e+02 1.696e+03 8.060e+02 1.361e+03 9.200e+02 1.721e+03\n",
      " 1.870e+02 1.138e+03 9.880e+02 1.930e+02 5.510e+02 7.670e+02 1.186e+03\n",
      " 8.920e+02 3.110e+02 8.270e+02 5.430e+02 1.003e+03 1.059e+03 2.390e+02\n",
      " 9.450e+02 2.000e+01 1.455e+03 9.650e+02 9.800e+02 8.630e+02 5.330e+02\n",
      " 1.084e+03 1.173e+03 5.230e+02 1.148e+03 1.910e+02 1.234e+03 3.750e+02\n",
      " 8.080e+02 7.240e+02 1.520e+02 1.180e+03 2.520e+02 8.320e+02 5.750e+02\n",
      " 9.190e+02 4.390e+02 3.810e+02 4.380e+02 5.490e+02 6.120e+02 1.163e+03\n",
      " 4.370e+02 3.940e+02 1.416e+03 4.220e+02 7.620e+02 9.750e+02 1.097e+03\n",
      " 2.510e+02 6.860e+02 6.560e+02 5.680e+02 5.390e+02 8.620e+02 1.970e+02\n",
      " 5.160e+02 6.630e+02 6.080e+02 1.636e+03 7.840e+02 2.490e+02 1.040e+03\n",
      " 4.830e+02 1.960e+02 5.720e+02 3.380e+02 3.300e+02 1.560e+02 1.390e+03\n",
      " 5.130e+02 4.600e+02 6.590e+02 3.640e+02 5.640e+02 3.060e+02 5.050e+02\n",
      " 9.320e+02 7.500e+02 6.400e+01 6.330e+02 1.170e+03 8.990e+02 9.020e+02\n",
      " 1.238e+03 5.280e+02 1.024e+03 1.064e+03 2.850e+02 2.188e+03 4.650e+02\n",
      " 3.220e+02 8.600e+02 5.990e+02 3.540e+02 6.300e+01 2.230e+02 3.010e+02\n",
      " 4.430e+02 4.890e+02 2.840e+02 2.940e+02 8.140e+02 1.650e+02 5.520e+02\n",
      " 8.330e+02 4.640e+02 9.360e+02 7.720e+02 1.440e+03 7.480e+02 9.820e+02\n",
      " 3.980e+02 5.620e+02 4.840e+02 4.170e+02 6.990e+02 6.960e+02 8.960e+02\n",
      " 5.560e+02 1.106e+03 6.510e+02 8.670e+02 8.540e+02 1.646e+03 1.074e+03\n",
      " 5.360e+02 1.172e+03 9.150e+02 5.950e+02 1.237e+03 2.730e+02 6.840e+02\n",
      " 3.240e+02 1.165e+03 1.380e+02 1.513e+03 3.170e+02 1.012e+03 1.022e+03\n",
      " 5.090e+02 9.000e+02 1.085e+03 1.104e+03 2.400e+02 3.830e+02 6.440e+02\n",
      " 3.970e+02 7.400e+02 8.370e+02 2.200e+02 5.860e+02 5.350e+02 4.100e+02\n",
      " 7.500e+01 8.240e+02 5.920e+02 1.039e+03 5.100e+02 4.230e+02 6.610e+02\n",
      " 2.480e+02 7.040e+02 4.120e+02 1.032e+03 2.190e+02 7.080e+02 4.150e+02\n",
      " 1.004e+03 3.530e+02 7.020e+02 3.690e+02 6.220e+02 2.120e+02 6.450e+02\n",
      " 8.520e+02 1.150e+03 1.258e+03 2.750e+02 1.760e+02 2.960e+02 5.380e+02\n",
      " 1.157e+03 4.920e+02 1.198e+03 1.387e+03 5.220e+02 6.580e+02 1.216e+03\n",
      " 1.480e+03 2.096e+03 1.159e+03 4.400e+02 1.456e+03 8.830e+02 5.470e+02\n",
      " 7.880e+02 4.850e+02 3.400e+02 1.220e+03 4.270e+02 3.440e+02 7.560e+02\n",
      " 1.540e+03 6.660e+02 8.030e+02 1.000e+03 8.850e+02 1.386e+03 3.190e+02\n",
      " 5.340e+02 1.250e+02 1.314e+03 6.020e+02 1.920e+02 5.930e+02 8.040e+02\n",
      " 1.053e+03 5.320e+02 1.158e+03 1.014e+03 1.940e+02 1.670e+02 7.760e+02\n",
      " 5.644e+03 6.940e+02 1.572e+03 7.460e+02 1.406e+03 9.250e+02 4.820e+02\n",
      " 1.890e+02 7.650e+02 8.000e+01 1.443e+03 2.590e+02 7.350e+02 7.340e+02\n",
      " 1.447e+03 5.480e+02 3.150e+02 1.282e+03 4.080e+02 3.090e+02 2.030e+02\n",
      " 8.650e+02 2.040e+02 7.900e+02 1.320e+03 7.690e+02 1.070e+03 2.640e+02\n",
      " 7.590e+02 1.373e+03 9.760e+02 7.810e+02 2.500e+01 1.110e+03 4.040e+02\n",
      " 5.800e+02 6.780e+02 9.580e+02 1.336e+03 1.079e+03 4.900e+01 8.300e+02\n",
      " 9.230e+02 7.910e+02 2.630e+02 9.350e+02 1.051e+03 5.140e+02 1.100e+02\n",
      " 1.414e+03 1.260e+02 1.129e+03 1.298e+03 3.760e+02 4.660e+02 2.440e+02\n",
      " 1.137e+03 6.870e+02 1.010e+03 1.500e+03 6.700e+02 9.440e+02 1.188e+03\n",
      " 8.560e+02 3.390e+02 4.810e+02 7.170e+02 5.790e+02 2.740e+02 7.800e+02\n",
      " 2.830e+02 4.740e+02 4.520e+02 2.760e+02 9.600e+02 7.660e+02 1.026e+03\n",
      " 7.300e+01 7.360e+02 1.319e+03 2.670e+02 1.092e+03 9.640e+02 9.540e+02\n",
      " 1.346e+03 1.433e+03 8.700e+02 1.980e+02 1.682e+03 2.380e+02 3.430e+02\n",
      " 7.600e+01 6.150e+02 7.800e+01 4.200e+01 4.690e+02 2.070e+02 4.580e+02\n",
      " 4.760e+02 1.341e+03 8.440e+02 8.470e+02 8.500e+02 1.965e+03 7.410e+02\n",
      " 3.630e+02 2.250e+02 1.333e+03 8.880e+02 6.360e+02 7.260e+02 2.540e+02\n",
      " 4.350e+02 3.890e+02 2.790e+02 1.360e+03 1.232e+03 2.288e+03 1.531e+03\n",
      " 1.230e+03 1.015e+03 1.037e+03 1.142e+03 1.262e+03 1.972e+03 8.810e+02\n",
      " 8.760e+02 2.146e+03 1.557e+03 8.000e+02 6.520e+02 4.940e+02 6.830e+02\n",
      " 9.130e+02 1.294e+03 2.158e+03 6.820e+02 1.430e+03 7.710e+02 5.400e+01\n",
      " 5.200e+01 6.800e+01 8.640e+02 1.400e+02 1.733e+03 6.010e+02 9.620e+02\n",
      " 1.252e+03 1.210e+02 9.550e+02 1.000e+02 1.312e+03 1.720e+02 1.550e+02\n",
      " 9.310e+02 8.720e+02 7.450e+02 6.210e+02 4.330e+02 8.260e+02 1.340e+02\n",
      " 1.690e+02 7.490e+02 1.152e+03 5.270e+02 3.420e+02 1.730e+02 7.000e+01\n",
      " 1.094e+03 8.200e+02 1.021e+03 1.359e+03 7.550e+02 9.500e+02 6.060e+02\n",
      " 1.259e+03 7.100e+02 1.111e+03 1.478e+03 3.320e+02 7.930e+02 2.460e+02\n",
      " 1.540e+02 6.500e+01 1.476e+03 5.500e+01 1.758e+03 1.115e+03 1.640e+03\n",
      " 1.140e+02 7.180e+02 4.960e+02 1.337e+03 1.034e+03 9.830e+02 1.206e+03\n",
      " 8.900e+02 1.023e+03 1.190e+02 2.860e+02 1.728e+03 1.375e+03 1.420e+03\n",
      " 2.257e+03 1.149e+03 1.075e+03 3.720e+02 1.204e+03 1.073e+03 1.087e+03\n",
      " 1.660e+03 1.096e+03 7.290e+02 3.620e+02 5.370e+02 4.720e+02 5.300e+01\n",
      " 7.640e+02 1.900e+02 1.027e+03 1.141e+03 6.810e+02 8.130e+02 1.280e+02\n",
      " 1.044e+03 2.600e+02 5.830e+02 3.200e+01 5.310e+02 1.480e+02 7.440e+02\n",
      " 9.600e+01 5.900e+02 2.000e+02 4.060e+02 1.750e+02 2.010e+02       nan\n",
      " 7.580e+02 2.210e+02 6.340e+02 1.035e+03 7.790e+02 1.271e+03 3.550e+02\n",
      " 2.085e+03 7.700e+02 7.220e+02 1.308e+03 6.880e+02 8.800e+01 1.194e+03\n",
      " 1.538e+03 1.593e+03 1.033e+03 3.660e+02 1.474e+03 1.383e+03 8.930e+02\n",
      " 1.029e+03 1.223e+03 1.011e+03 1.571e+03 3.180e+02 5.010e+02 7.850e+02\n",
      " 6.380e+02 6.470e+02 8.380e+02 1.860e+02 9.260e+02 1.101e+03 1.047e+03\n",
      " 7.970e+02 1.558e+03 1.328e+03 3.140e+02 9.300e+02 7.250e+02 1.151e+03\n",
      " 1.304e+03 1.812e+03 1.684e+03 6.690e+02 1.178e+03 1.030e+03 8.480e+02\n",
      " 9.180e+02 5.740e+02 1.181e+03 1.048e+03 3.350e+02 1.225e+03 7.270e+02\n",
      " 9.680e+02 6.000e+01 9.370e+02 9.010e+02 1.732e+03 1.632e+03 9.730e+02\n",
      " 9.100e+02 3.460e+02 7.920e+02 6.540e+02 1.300e+02 8.730e+02 9.080e+02\n",
      " 4.410e+02 8.500e+01 2.420e+02 9.520e+02 1.098e+03 7.820e+02 1.220e+02\n",
      " 3.160e+02 2.580e+02 5.870e+02 4.910e+02 4.530e+02 5.570e+02 1.080e+03\n",
      " 4.970e+02 5.100e+01 5.020e+02 6.710e+02 1.412e+03 7.090e+02 1.320e+02\n",
      " 4.010e+03 4.670e+02 7.700e+01 1.130e+02 5.770e+02 4.340e+02 1.001e+03\n",
      " 1.392e+03 1.239e+03 9.240e+02 9.490e+02 2.150e+02 1.329e+03 1.112e+03\n",
      " 7.960e+02 8.110e+02 1.090e+03 5.960e+02 1.127e+03 2.050e+02 1.191e+03\n",
      " 9.510e+02 3.820e+02 3.730e+02 1.505e+03 1.290e+03 8.800e+02 1.038e+03\n",
      " 1.182e+03 1.562e+03 1.836e+03 2.780e+02 1.810e+02 1.118e+03 7.600e+02\n",
      " 7.990e+02 9.960e+02 9.390e+02 9.140e+02 2.710e+02 4.880e+02 7.010e+02\n",
      " 4.550e+02 8.090e+02 9.530e+02 2.080e+02 1.430e+02 5.760e+02 3.470e+02\n",
      " 7.940e+02 2.300e+02 2.610e+02 3.930e+02 1.576e+03 1.122e+03 8.530e+02\n",
      " 4.750e+02 6.910e+02 4.240e+02 3.050e+02 5.260e+02 1.564e+03 9.090e+02\n",
      " 1.136e+03 1.243e+03 1.490e+02 1.224e+03 3.370e+02]\n",
      "\n",
      "Unique values of: BsmtFinType2 (7)\n",
      "['Unf' 'BLQ' nan 'ALQ' 'Rec' 'LwQ' 'GLQ']\n",
      "\n",
      "Unique values of: BsmtFinSF2 (273)\n",
      "[   0.   32.  668.  486.   93.  491.  506.  712.  362.   41.  169.  869.\n",
      "  150.  670.   28. 1080.  181.  768.  215.  374.  208.  441.  184.  279.\n",
      "  306.  180.  580.  690.  692.  228.  125. 1063.  620.  175.  820. 1474.\n",
      "  264.  479.  147.  232.  380.  544.  294.  258.  121.  391.  531.  344.\n",
      "  539.  713.  210.  311. 1120.  165.  532.   96.  495.  174. 1127.  139.\n",
      "  202.  645.  123.  551.  219.  606.  612.  480.  182.  132.  336.  468.\n",
      "  287.   35.  499.  723.  119.   40.  117.  239.   80.  472.   64. 1057.\n",
      "  127.  630.  128.  377.  764.  345. 1085.  435.  823.  500.  290.  324.\n",
      "  634.  411.  841. 1061.  466.  396.  354.  149.  193.  273.  465.  400.\n",
      "  682.  557.  230.  106.  791.  240.  547.  469.  177.  108.  600.  492.\n",
      "  211.  168. 1031.  438.  375.  144.   81.  906.  608.  276.  661.   68.\n",
      "  173.  972.  105.  420.  546.  334.  352.  872.  110.  627.  163. 1029.\n",
      "   78.  859.  981.   42.   46.  162.  350.  263. 1073.   12.  159.  474.\n",
      "  453.  684.  387.  688.  252.  590.  284.  622.  113. 1526.  360.  774.\n",
      "  364.  596.  884.   92.  216.  136.  201.  512.  247.  483.  750.   60.\n",
      "  102.   95.   63.  262.  393.  286.  450.   72.  243.  694.  875.  507.\n",
      "  419.  250.  116.  624.   76.  270.  288.  186.  449.   48.  613.  852.\n",
      "  555.  799.  811.  842.  382.  456.  308.   52.  196.  488.  319.   nan\n",
      "  956.  120.  679.  604.  153.  619.    6.  351. 1037.  829.   38.  206.\n",
      "  167.  543.  259.  404.  138.  955.  691.   66.  154.  442.  448.  227.\n",
      "  398.  722.  761.  529.  522.  873.  891.  755.  321.  915.  417.  432.\n",
      "  831.  278. 1020.  530.  904.  156. 1393. 1039.  497.  402.  748.  281.\n",
      "  912.  373.  982.  826.  850. 1164. 1083.  337.  297.]\n",
      "\n",
      "Unique values of: BsmtUnfSF (1136)\n",
      "[ 150.  284.  434. ...  129.   45. 1503.]\n",
      "\n",
      "Unique values of: TotalBsmtSF (1059)\n",
      "[ 856. 1262.  920. ...  498.  432. 1381.]\n",
      "\n",
      "Unique values of: Heating (6)\n",
      "['GasA' 'GasW' 'Grav' 'Wall' 'OthW' 'Floor']\n",
      "\n",
      "Unique values of: HeatingQC (5)\n",
      "['Ex' 'Gd' 'TA' 'Fa' 'Po']\n",
      "\n",
      "Unique values of: CentralAir (2)\n",
      "['Y' 'N']\n",
      "\n",
      "Unique values of: Electrical (6)\n",
      "['SBrkr' 'FuseF' 'FuseA' 'FuseP' 'Mix' nan]\n",
      "\n",
      "Unique values of: 1stFlrSF (1083)\n",
      "[ 856 1262  920 ... 1778 1650 1960]\n",
      "\n",
      "Unique values of: 2ndFlrSF (635)\n",
      "[ 854    0  866  756 1053  566  983  752 1142 1218  668 1320  631  716\n",
      "  676  860 1519  530  808  977 1330  833  765  462  213  548  960  670\n",
      " 1116  876  612 1031  881  790  755  592  939  520  639  656 1414  884\n",
      "  729 1523  728  351  688  941 1032  848  836  475  739 1151  448  896\n",
      "  524 1194  956 1070 1096  467  547  551  880  703  901  720  316 1518\n",
      "  704 1178  754  601 1360  929  445  564  882  920  518  817 1257  741\n",
      "  672 1306  504 1304 1100  730  689  591  888 1020  828  700  842 1286\n",
      "  864  829 1092  709  844 1106  596  807  625  649  698  840  780  568\n",
      "  795  648  975  702 1242 1818 1121  371  804  325  809 1200  871 1274\n",
      " 1347 1332 1177 1080  695  167  915  576  605  862  495  403  838  517\n",
      " 1427  784  711  468 1081  886  793  665  858  874  526  590  406 1157\n",
      "  299  936  438 1098  766 1101 1028 1017 1254  378 1160  682  110  600\n",
      "  678  834  384  512  930  868  224 1103  560  811  878  574  910  620\n",
      "  687  546  902 1000  846 1067  914  660 1538 1015 1237  611  707  527\n",
      " 1288  832  806 1182 1040  439  717  511 1129 1370  636  533  745  584\n",
      "  812  684  595  988  800  677  573 1066  778  661 1440  872  788  843\n",
      "  713  567  651  762  482  738  586  679  644  900  887 1872 1281  472\n",
      " 1312  319  978 1093  473  664 1540 1276  441  348 1060  714  744 1203\n",
      "  783 1097  734  767 1589  742  686 1128 1111 1174  787 1072 1088 1063\n",
      "  545  966  623  432  581  540  769 1051  761  779  514  455 1426  785\n",
      "  521  252  813 1120 1037 1169 1001 1215  928 1140 1243  571 1196 1038\n",
      "  561  979  701  332  368  883 1336 1141  634  912  798  985  826  831\n",
      "  750  456  602  855  336  408  980  998 1168 1208  797  850  898 1054\n",
      "  895  954  772 1230  727  454  370  628  304  582 1122 1134  885  640\n",
      "  580 1112  653  220  240 1362  534  539  650  918  933  712 1796  971\n",
      " 1175  743  523 1216 2065  272  685  776  630  984  875  913  464 1039\n",
      " 1259  940  892  725  924  764  925 1479  192  589  992  903  430  748\n",
      "  587  994  950 1323  732 1357  557 1296  390 1185  873 1611  457  796\n",
      "  908  550  989  932  358 1392  349  691 1349  768  208  622  857  556\n",
      " 1044  708  626  904  510 1104  830  981  870  694 1152  563  823  604\n",
      "  715  532  537  505  424  606  185  498  492  608 1074  662  499  180\n",
      "  942  558  614  328 1788 1075  380  615  645  663 1275  816  839 1325\n",
      " 1012 1295  683 1126 1089 1221  967  841 1209  897  786 1629  782 1369\n",
      "  972 1315  726  322  760  629  496  690  646  917  624  320  588  425\n",
      "  747 1114 1619  718  815  926  444  436 1240  516 1420 1158 1162 1139\n",
      " 1285 1061 1250  919  861  794  825  893 1319  959  792 1345  453  412\n",
      "  182  501  375  680  658  552  396  308  973  363  594  554  428  536\n",
      "  486 1721 1099  735  899 1198  343  673  442  890  943  330  420  770\n",
      " 1342 1377  845 1402 1036  570 1238  923  757 1048 1131 1407 1171 1277\n",
      "  995  528  863 1232  976 1008 1309  228  500  544 1778  616  494  642\n",
      "  659  671  144  525  423 1164  356  245 1042  477 1005 1087  638  400\n",
      "  376  916  927  869  753  450 1133  674  125  531  585  775  851  957\n",
      " 1340  955  990 1384 1862 1371 1405 1358  465  466 1335  814  488 1321\n",
      " 1029 1368 1567 1189 1234 1248  821 1007  476  502  867  297  810  434\n",
      "  583  341 1836  541 1246 1124 1045  827 1150  312  218  493  736  818\n",
      "  610  549  697  360 1004]\n",
      "\n",
      "Unique values of: LowQualFinSF (36)\n",
      "[   0  360  513  234  528  572  144  392  371  390  420  473  156  515\n",
      "   80   53  232  481  120  514  397  479  205  384  362 1064  431  436\n",
      "  259  312  108  697  512  114  140  450]\n",
      "\n",
      "Unique values of: GrLivArea (1292)\n",
      "[1710 1262 1786 ... 2315  641 1778]\n",
      "\n",
      "Unique values of: BsmtFullBath (5)\n",
      "[ 1.  0.  2.  3. nan]\n",
      "\n",
      "Unique values of: BsmtHalfBath (4)\n",
      "[ 0.  1.  2. nan]\n",
      "\n",
      "Unique values of: FullBath (5)\n",
      "[2 1 3 0 4]\n",
      "\n",
      "Unique values of: HalfBath (3)\n",
      "[1 0 2]\n",
      "\n",
      "Unique values of: BedroomAbvGr (8)\n",
      "[3 4 1 2 0 5 6 8]\n",
      "\n",
      "Unique values of: KitchenAbvGr (4)\n",
      "[1 2 3 0]\n",
      "\n",
      "Unique values of: KitchenQual (5)\n",
      "['Gd' 'TA' 'Ex' 'Fa' nan]\n",
      "\n",
      "Unique values of: TotRmsAbvGrd (14)\n",
      "[ 8  6  7  9  5 11  4 10 12  3  2 14 13 15]\n",
      "\n",
      "Unique values of: Functional (8)\n",
      "['Typ' 'Min1' 'Maj1' 'Min2' 'Mod' 'Maj2' 'Sev' nan]\n",
      "\n",
      "Unique values of: Fireplaces (5)\n",
      "[0 1 2 3 4]\n",
      "\n",
      "Unique values of: GarageType (7)\n",
      "['Attchd' 'Detchd' 'BuiltIn' 'CarPort' nan 'Basment' '2Types']\n",
      "\n",
      "Unique values of: GarageYrBlt (104)\n",
      "[2003. 1976. 2001. 1998. 2000. 1993. 2004. 1973. 1931. 1939. 1965. 2005.\n",
      " 1962. 2006. 1960. 1991. 1970. 1967. 1958. 1930. 2002. 1968. 2007. 2008.\n",
      " 1957. 1920. 1966. 1959. 1995. 1954. 1953.   nan 1983. 1977. 1997. 1985.\n",
      " 1963. 1981. 1964. 1999. 1935. 1990. 1945. 1987. 1989. 1915. 1956. 1948.\n",
      " 1974. 2009. 1950. 1961. 1921. 1900. 1979. 1951. 1969. 1936. 1975. 1971.\n",
      " 1923. 1984. 1926. 1955. 1986. 1988. 1916. 1932. 1972. 1918. 1980. 1924.\n",
      " 1996. 1940. 1949. 1994. 1910. 1978. 1982. 1992. 1925. 1941. 2010. 1927.\n",
      " 1947. 1937. 1942. 1938. 1952. 1928. 1922. 1934. 1906. 1914. 1946. 1908.\n",
      " 1929. 1933. 1917. 1896. 1895. 2207. 1943. 1919.]\n",
      "\n",
      "Unique values of: GarageFinish (4)\n",
      "['RFn' 'Unf' 'Fin' nan]\n",
      "\n",
      "Unique values of: GarageCars (7)\n",
      "[ 2.  3.  1.  0.  4.  5. nan]\n",
      "\n",
      "Unique values of: GarageArea (604)\n",
      "[ 548.  460.  608.  642.  836.  480.  636.  484.  468.  205.  384.  736.\n",
      "  352.  840.  576.  516.  294.  853.  280.  534.  572.  270.  890.  772.\n",
      "  319.  240.  250.  271.  447.  556.  691.  672.  498.  246.    0.  440.\n",
      "  308.  504.  300.  670.  826.  386.  388.  528.  894.  565.  641.  288.\n",
      "  645.  852.  558.  220.  667.  360.  427.  490.  379.  297.  283.  509.\n",
      "  405.  758.  461.  400.  462.  420.  432.  506.  684.  472.  366.  476.\n",
      "  410.  740.  648.  273.  546.  325.  792.  450.  180.  430.  594.  390.\n",
      "  540.  264.  530.  435.  453.  750.  487.  624.  471.  318.  766.  660.\n",
      "  470.  720.  577.  380.  434.  866.  495.  564.  312.  625.  680.  678.\n",
      "  726.  532.  216.  303.  789.  511.  616.  521.  451. 1166.  252.  497.\n",
      "  682.  666.  786.  795.  856.  473.  398.  500.  349.  454.  644.  299.\n",
      "  210.  431.  438.  675.  968.  721.  336.  810.  494.  457.  818.  463.\n",
      "  604.  389.  538.  520.  309.  429.  673.  884.  868.  492.  413.  924.\n",
      " 1053.  439.  671.  338.  573.  732.  505.  575.  626.  898.  529.  685.\n",
      "  281.  539.  418.  588.  282.  375.  683.  843.  552.  870.  888.  746.\n",
      "  708.  513. 1025.  656.  872.  292.  441.  189.  880.  676.  301.  474.\n",
      "  706.  617.  445.  200.  592.  566.  514.  296.  244.  610.  834.  639.\n",
      "  501.  846.  560.  596.  600.  373.  947.  350.  396.  864.  304.  784.\n",
      "  696.  569.  628.  550.  493.  578.  198.  422.  228.  526.  525.  908.\n",
      "  499.  508.  694.  874.  164.  402.  515.  286.  603.  900.  583.  889.\n",
      "  858.  502.  392.  403.  527.  765.  367.  426.  615.  871.  570.  406.\n",
      "  590.  612.  650. 1390.  275.  452.  842.  816.  621.  544.  486.  230.\n",
      "  261.  531.  393.  774.  749.  364.  627.  260.  256.  478.  442.  562.\n",
      "  512.  839.  330.  711. 1134.  416.  779.  702.  567.  832.  326.  551.\n",
      "  606.  739.  408.  475.  704.  983.  768.  632.  541.  320.  800.  831.\n",
      "  554.  878.  752.  614.  481.  496.  423.  841.  895.  412.  865.  630.\n",
      "  605.  602.  618.  444.  397.  455.  409.  820. 1020.  598.  857.  595.\n",
      "  433.  776. 1220.  458.  613.  456.  436.  812.  686.  611.  425.  343.\n",
      "  479.  619.  902.  574.  523.  414.  738.  354.  483.  327.  756.  690.\n",
      "  284.  833.  601.  533.  522.  788.  555.  689.  796.  808.  510.  255.\n",
      "  424.  305.  368.  824.  328.  160.  437.  665.  290.  912.  905.  542.\n",
      "  716.  586.  467.  582. 1248. 1043.  254.  712.  719.  862.  928.  782.\n",
      "  466.  714. 1052.  225.  234.  324.  306.  830.  807.  358.  186.  693.\n",
      "  482.  813.  995.  757. 1356.  459.  701.  322.  315.  668.  404.  543.\n",
      "  954.  850.  477.  276.  518. 1014.  753. 1418.  213.  844.  860.  748.\n",
      "  248.  287.  825.  647.  342.  770.  663.  377.  804.  936.  722.  208.\n",
      "  662.  754.  622.  620.  370. 1069.  372.  923.  192.  730.  751.  958.\n",
      "  962.  762.  713.  535.  517.  263.  780.  363.  365.  231.  591.  209.\n",
      " 1017.  580.  399.  741.  253.  581.  345.  896.  932.  640.  927.  700.\n",
      "  886.  949.  649.  394.  658.  815.  623.  972.  984.  692.  845.  559.\n",
      "  465.  524.  561.  549.  907.  162.  357.  207. 1184.  316.  226.  340.\n",
      "  266. 1138.  904. 1231.  195.  313.  215.  307.  295.  351.  885.  920.\n",
      "  698.  557.  489. 1314.  787. 1150. 1003.  944.  428.  687.  938.  783.\n",
      "  851.  545.  469.  464.  267. 1488.  401.  311.  828.  869.  355.  249.\n",
      " 1348.  811.  725.  715.  814.  369.  599.  344.  356.  185.  892.  257.\n",
      "  729. 1110.  724.  585.  488. 1040. 1174.  728.  916.  876.  631.  925.\n",
      "  806.  933. 1092.  859.  744. 1105.  310.  293.  371. 1200.  184.  374.\n",
      "  331.  224.  217.  323.  638.  332.  674.  747.  242.  597.  579. 1154.\n",
      "   nan  100.  571. 1041.  963.  443.  773.  485. 1085.  899.  959.  803.\n",
      "  760.  584.  449.  688.  568.  353.  791. 1008.  378.  258.  848.  317.\n",
      "  646.  265.  609.  272.]\n",
      "\n",
      "Unique values of: GarageQual (6)\n",
      "['TA' 'Fa' 'Gd' nan 'Ex' 'Po']\n",
      "\n",
      "Unique values of: GarageCond (6)\n",
      "['TA' 'Fa' nan 'Gd' 'Po' 'Ex']\n",
      "\n",
      "Unique values of: PavedDrive (3)\n",
      "['Y' 'N' 'P']\n",
      "\n",
      "Unique values of: WoodDeckSF (379)\n",
      "[   0  298  192   40  255  235   90  147  140  160   48  240  171  100\n",
      "  406  222  288   49  203  113  392  145  196  168  112  106  857  115\n",
      "  120   12  576  301  144  300   74  127  232  158  352  182  180  166\n",
      "  224   80  367   53  188  105   24   98  276  200  409  239  400  476\n",
      "  178  574  237  210  441  116  280  104   87  132  238  149  355   60\n",
      "  139  108  351  209  216  248  143  365  370   58  197  263  123  138\n",
      "  333  250  292   95  262   81  289  124  172  110  208  468  256  302\n",
      "  190  340  233  184  201  142  122  155  670  135  495  536  306   64\n",
      "  364  353   66  159  146  296  125   44  215  264   88   89   96  414\n",
      "  519  206  141  260  324  156  220   38  261  126   85  466  270   78\n",
      "  169  320  268   72  349   42   35  326  382  161  179  103  253  148\n",
      "  335  176  390  328  312  185  269  195   57  236  517  304  198  426\n",
      "   28  316  322  307  257  219  416  344  380   68  114  327  165  187\n",
      "  181   92  228  245  503  315  241  303  133  403   36   52  265  207\n",
      "  150  290  486  278   70  418  234   26  342   97  272  121  243  511\n",
      "  154  164  173  384  202   56  321   86  194  421  305  117  550  509\n",
      "  153  394  371   63  252  136  186  170  474  214  199  728  436   55\n",
      "  431  448  361  362  162  229  439  379  356   84  635  325   33  212\n",
      "  314  242  294   30  128   45  177  227  218  309  404  500  668  402\n",
      "  283  183  175  586  295   32  366  736  393  360  157  483  275   23\n",
      "  277  657   51   54  221  226  496  336  450   71  331  375  174   22\n",
      "  287  129  225  319   99  230  231  297  205  462  502  501  266  244\n",
      "  189  131   73  329  279  467  119  308  152   16  411  358  385   20\n",
      "   25  490   76  204  311  102   50  424  339  211  259  134  213  318\n",
      "  428  282  167  407  130  460  286  193  455  284  285   14  521  646\n",
      "  386  405  546  118  291  274 1424  690  330  246  444  354  247  870\n",
      "  432    4  641   94  191   75  631  345  520   27   77  684  453  413\n",
      "  530]\n",
      "\n",
      "Unique values of: OpenPorchSF (252)\n",
      "[ 61   0  42  35  84  30  57 204   4  21  33 213 112 102 154 159 110  90\n",
      "  56  32  50 258  54  65  38  47  64  52 138 104  82  43 146  75  72  70\n",
      "  49  11  36 151  29  94 101 199  99 234 162  63  68  46  45 122 184 120\n",
      "  20  24 130 205 108  80  66  48  25  96 111 106  40 114   8 136 132  62\n",
      " 228  60 238 260  27  74  16 198  26  83  34  55  22  98 172 119 208 105\n",
      " 140 168  28  39 148  12  51 150 117 250  10  81  44 144 175 195 128  76\n",
      "  17  59 214 121  53 231 134 192 123  78 187  85 133 176 113 137 125 523\n",
      " 100 285  88 406 155  73 182 502 274 158 142 243 235 312 124 267 265  87\n",
      " 288  23 152 341 116 160 174 247 291  18 170 156 166 129 418 240  77 364\n",
      " 188 207  67  69 131 191  41 118 252 189 282 135  95 224 169 319  58  93\n",
      " 244 185 200  92 180 263 304 229 103 211 287 292 241 547  91  86 262 210\n",
      " 141  15 126 236 278 197 273 190 183 165 226 178 177 254 215 222 193 201\n",
      " 173 153 251 230 299 365 139 216  89 372 217 276 164 368 203 127 256 194\n",
      " 324 171 570 484 742 444 266  97  37 246  31 382   6 115 253 245 107 225]\n",
      "\n",
      "Unique values of: EnclosedPorch (183)\n",
      "[   0  272  228  205  176   87  172  102   37  144   64  114  202  128\n",
      "  156   44   77  192  140  180  183   39  184   40  552   30  126   96\n",
      "   60  150  120  112  252   52  224  234  244  268  137   24  108  294\n",
      "  177  218  242   91  160  130  169  105   34  248  236   32   80  115\n",
      "  291  116  158  210   36  200   84  148  136  240   54  100  189  293\n",
      "  164  216  239   67   90   56  129   98  143   70  386  154  185  134\n",
      "  196  264  275  230  254   68  194  318   48   94  138  226  174   19\n",
      "  170  220  214  280  190  330  208  145  259   81   42  123  162  286\n",
      "  168   20  301  198  221  212   50   99  186  113  135  334  246   18\n",
      "   41   35  364   45   86  265  222  209  260  203  432   25  238   51\n",
      "  213  288  211   55   57   78   72  368  165   92   16   66  109  139\n",
      "  219  101  117  204  122  231  121  207  249  290  175   26   88 1012\n",
      "   43  584  133  324  161   75  167   28  104  296  256  225  429  132\n",
      "   23]\n",
      "\n",
      "Unique values of: 3SsnPorch (31)\n",
      "[  0 320 407 130 180 168 140 508 238 245 196 144 182 162  23 216  96 153\n",
      " 290 304 224 255 225 360 150 174 120 219 176  86 323]\n",
      "\n",
      "Unique values of: ScreenPorch (121)\n",
      "[  0 176 198 291 252  99 184 168 130 142 192 410 224 266 170 154 153 144\n",
      " 128 259 160 271 234 374 185 182  90 396 140 276 180 161 145 200 122  95\n",
      " 120  60 126 189 260 147 385 287 156 100 216 210 197 204 225 152 175 312\n",
      " 222 265 322 190 233  63  53 143 273 288 263  80 163 116 480 178 440 155\n",
      " 220 119 165  40 256 240 148 166 108 490 196 121  92 342 255 111 112 231\n",
      " 110 117 195 115 141 208  94 164  64 576 227 221 171 135 174 217 201 109\n",
      " 150  84 228 138  88 280 123 264 270 162 348 113 104]\n",
      "\n",
      "Unique values of: PoolArea (14)\n",
      "[  0 512 648 576 555 480 519 738 144 368 444 228 561 800]\n",
      "\n",
      "Unique values of: MiscVal (38)\n",
      "[    0   700   350   500   400   480   450 15500  1200   800  2000   600\n",
      "  3500  1300    54   620   560  1400  8300  1150  2500 12500  1500   300\n",
      "    80   490   650   900   750  6500  1000  4500  3000 17000  1512   455\n",
      "   460   420]\n",
      "\n",
      "Unique values of: MoSold (12)\n",
      "[ 2  5  9 12 10  8 11  4  1  7  3  6]\n",
      "\n",
      "Unique values of: YrSold (5)\n",
      "[2008 2007 2006 2009 2010]\n",
      "\n",
      "Unique values of: SaleType (10)\n",
      "['WD' 'New' 'COD' 'ConLD' 'ConLI' 'CWD' 'ConLw' 'Con' 'Oth' nan]\n",
      "\n",
      "Unique values of: SaleCondition (6)\n",
      "['Normal' 'Abnorml' 'Partial' 'AdjLand' 'Alloca' 'Family']\n",
      "\n"
     ]
    }
   ],
   "source": [
    "for i in df.columns:\n",
    "    print(\"Unique values of: {} ({})\\n{}\\n\".format(i, len(df[i].unique()), df[i].unique()))\n"
   ]
  },
  {
   "cell_type": "code",
   "execution_count": 94,
   "id": "156a86c7-6bdd-4331-bd90-abac4fd60ba6",
   "metadata": {},
   "outputs": [
    {
     "data": {
      "text/plain": [
       "count      1460.000000\n",
       "mean     180921.195890\n",
       "std       79442.502883\n",
       "min       34900.000000\n",
       "25%      129975.000000\n",
       "50%      163000.000000\n",
       "75%      214000.000000\n",
       "max      755000.000000\n",
       "Name: SalePrice, dtype: float64"
      ]
     },
     "execution_count": 94,
     "metadata": {},
     "output_type": "execute_result"
    }
   ],
   "source": [
    "train['SalePrice'].describe()"
   ]
  },
  {
   "cell_type": "code",
   "execution_count": 97,
   "id": "696e55d7-b290-4ea2-8b07-ce4896bd34df",
   "metadata": {},
   "outputs": [
    {
     "data": {
      "text/plain": [
       "<matplotlib.legend.Legend at 0x1e995a397c0>"
      ]
     },
     "execution_count": 97,
     "metadata": {},
     "output_type": "execute_result"
    },
    {
     "data": {
      "text/plain": [
       "<Figure size 1600x900 with 0 Axes>"
      ]
     },
     "metadata": {},
     "output_type": "display_data"
    },
    {
     "data": {
      "image/png": "[encoded data removed]",
      "text/plain": [
       "<Figure size 500x500 with 1 Axes>"
      ]
     },
     "metadata": {},
     "output_type": "display_data"
    }
   ],
   "source": [
    "plt.figure(figsize=(16, 9))\n",
    "bar = sns.displot(train['SalePrice'], kde=True)\n",
    "plt.legend(['Skewness: {:.2f}'.format(train['SalePrice'].skew())])\n"
   ]
  },
  {
   "cell_type": "code",
   "execution_count": 94,
   "id": "6feadeed-d0b0-4395-8b6e-453225391aae",
   "metadata": {},
   "outputs": [],
   "source": [
    " from matplotlib import pyplot as plt\n",
    "import pandas as pd\n",
    "import numpy as np\n",
    "import seaborn as sns"
   ]
  },
  {
   "cell_type": "code",
   "execution_count": 95,
   "id": "6f4da8d2-0c9b-4022-9608-dd9d762dc844",
   "metadata": {},
   "outputs": [
    {
     "data": {
      "text/html": [
       "<div>\n",
       "<style scoped>\n",
       "    .dataframe tbody tr th:only-of-type {\n",
       "        vertical-align: middle;\n",
       "    }\n",
       "\n",
       "    .dataframe tbody tr th {\n",
       "        vertical-align: top;\n",
       "    }\n",
       "\n",
       "    .dataframe thead th {\n",
       "        text-align: right;\n",
       "    }\n",
       "</style>\n",
       "<table border=\"1\" class=\"dataframe\">\n",
       "  <thead>\n",
       "    <tr style=\"text-align: right;\">\n",
       "      <th></th>\n",
       "      <th>study_hours</th>\n",
       "      <th>student_marks</th>\n",
       "    </tr>\n",
       "  </thead>\n",
       "  <tbody>\n",
       "    <tr>\n",
       "      <th>0</th>\n",
       "      <td>6.83</td>\n",
       "      <td>78.50</td>\n",
       "    </tr>\n",
       "    <tr>\n",
       "      <th>1</th>\n",
       "      <td>6.56</td>\n",
       "      <td>76.74</td>\n",
       "    </tr>\n",
       "    <tr>\n",
       "      <th>2</th>\n",
       "      <td>NaN</td>\n",
       "      <td>78.68</td>\n",
       "    </tr>\n",
       "    <tr>\n",
       "      <th>3</th>\n",
       "      <td>5.67</td>\n",
       "      <td>71.82</td>\n",
       "    </tr>\n",
       "    <tr>\n",
       "      <th>4</th>\n",
       "      <td>8.67</td>\n",
       "      <td>84.19</td>\n",
       "    </tr>\n",
       "  </tbody>\n",
       "</table>\n",
       "</div>"
      ],
      "text/plain": [
       "   study_hours  student_marks\n",
       "0         6.83          78.50\n",
       "1         6.56          76.74\n",
       "2          NaN          78.68\n",
       "3         5.67          71.82\n",
       "4         8.67          84.19"
      ]
     },
     "execution_count": 95,
     "metadata": {},
     "output_type": "execute_result"
    }
   ],
   "source": [
    "df=pd.read_csv('student_info.csv')\n",
    "df.head()"
   ]
  },
  {
   "cell_type": "code",
   "execution_count": 96,
   "id": "b4b1e5cc-8a52-4da8-80e8-1ca9bfa79b2e",
   "metadata": {},
   "outputs": [
    {
     "data": {
      "text/plain": [
       "(200, 2)"
      ]
     },
     "execution_count": 96,
     "metadata": {},
     "output_type": "execute_result"
    }
   ],
   "source": [
    "df.shape"
   ]
  },
  {
   "cell_type": "code",
   "execution_count": 97,
   "id": "094a1ece-9a71-4e19-84e0-feedacc37a06",
   "metadata": {},
   "outputs": [
    {
     "name": "stdout",
     "output_type": "stream",
     "text": [
      "<class 'pandas.core.frame.DataFrame'>\n",
      "RangeIndex: 200 entries, 0 to 199\n",
      "Data columns (total 2 columns):\n",
      " #   Column         Non-Null Count  Dtype  \n",
      "---  ------         --------------  -----  \n",
      " 0   study_hours    195 non-null    float64\n",
      " 1   student_marks  200 non-null    float64\n",
      "dtypes: float64(2)\n",
      "memory usage: 3.2 KB\n"
     ]
    }
   ],
   "source": [
    "df.info()"
   ]
  },
  {
   "cell_type": "code",
   "execution_count": 98,
   "id": "d46112d0-f845-4e45-b54c-2365960cdb1a",
   "metadata": {},
   "outputs": [
    {
     "data": {
      "text/html": [
       "<div>\n",
       "<style scoped>\n",
       "    .dataframe tbody tr th:only-of-type {\n",
       "        vertical-align: middle;\n",
       "    }\n",
       "\n",
       "    .dataframe tbody tr th {\n",
       "        vertical-align: top;\n",
       "    }\n",
       "\n",
       "    .dataframe thead th {\n",
       "        text-align: right;\n",
       "    }\n",
       "</style>\n",
       "<table border=\"1\" class=\"dataframe\">\n",
       "  <thead>\n",
       "    <tr style=\"text-align: right;\">\n",
       "      <th></th>\n",
       "      <th>study_hours</th>\n",
       "      <th>student_marks</th>\n",
       "    </tr>\n",
       "  </thead>\n",
       "  <tbody>\n",
       "    <tr>\n",
       "      <th>count</th>\n",
       "      <td>195.000000</td>\n",
       "      <td>200.00000</td>\n",
       "    </tr>\n",
       "    <tr>\n",
       "      <th>mean</th>\n",
       "      <td>6.995949</td>\n",
       "      <td>77.93375</td>\n",
       "    </tr>\n",
       "    <tr>\n",
       "      <th>std</th>\n",
       "      <td>1.253060</td>\n",
       "      <td>4.92570</td>\n",
       "    </tr>\n",
       "    <tr>\n",
       "      <th>min</th>\n",
       "      <td>5.010000</td>\n",
       "      <td>68.57000</td>\n",
       "    </tr>\n",
       "    <tr>\n",
       "      <th>25%</th>\n",
       "      <td>5.775000</td>\n",
       "      <td>73.38500</td>\n",
       "    </tr>\n",
       "    <tr>\n",
       "      <th>50%</th>\n",
       "      <td>7.120000</td>\n",
       "      <td>77.71000</td>\n",
       "    </tr>\n",
       "    <tr>\n",
       "      <th>75%</th>\n",
       "      <td>8.085000</td>\n",
       "      <td>82.32000</td>\n",
       "    </tr>\n",
       "    <tr>\n",
       "      <th>max</th>\n",
       "      <td>8.990000</td>\n",
       "      <td>86.99000</td>\n",
       "    </tr>\n",
       "  </tbody>\n",
       "</table>\n",
       "</div>"
      ],
      "text/plain": [
       "       study_hours  student_marks\n",
       "count   195.000000      200.00000\n",
       "mean      6.995949       77.93375\n",
       "std       1.253060        4.92570\n",
       "min       5.010000       68.57000\n",
       "25%       5.775000       73.38500\n",
       "50%       7.120000       77.71000\n",
       "75%       8.085000       82.32000\n",
       "max       8.990000       86.99000"
      ]
     },
     "execution_count": 98,
     "metadata": {},
     "output_type": "execute_result"
    }
   ],
   "source": [
    "df.describe()"
   ]
  },
  {
   "cell_type": "code",
   "execution_count": 99,
   "id": "43a1c048-ad7d-4d9a-af1c-e329b0998300",
   "metadata": {},
   "outputs": [
    {
     "data": {
      "image/png": "[encoded data removed]",
      "text/plain": [
       "<Figure size 640x480 with 1 Axes>"
      ]
     },
     "metadata": {},
     "output_type": "display_data"
    }
   ],
   "source": [
    "plt.scatter(x=df['study_hours'],y=df['student_marks'])\n",
    "plt.xlabel('Student study hours')\n",
    "plt.ylabel(\"Student MArks\")\n",
    "plt.title(\"scatter plot of student study hours vs student marks\")\n",
    "plt.show()"
   ]
  },
  {
   "cell_type": "code",
   "execution_count": 100,
   "id": "1c3e0785-f853-4180-b127-d03241e09baa",
   "metadata": {},
   "outputs": [
    {
     "data": {
      "text/plain": [
       "study_hours      5\n",
       "student_marks    0\n",
       "dtype: int64"
      ]
     },
     "execution_count": 100,
     "metadata": {},
     "output_type": "execute_result"
    }
   ],
   "source": [
    "df.isnull().sum()"
   ]
  },
  {
   "cell_type": "code",
   "execution_count": 101,
   "id": "76dba43e-297f-46d2-9ac9-8ee7e5271ac9",
   "metadata": {},
   "outputs": [
    {
     "data": {
      "text/plain": [
       "study_hours       6.995949\n",
       "student_marks    77.933750\n",
       "dtype: float64"
      ]
     },
     "execution_count": 101,
     "metadata": {},
     "output_type": "execute_result"
    }
   ],
   "source": [
    "df.mean()"
   ]
  },
  {
   "cell_type": "code",
   "execution_count": 102,
   "id": "bc934c45-4490-4f89-9849-05d5eb6bca78",
   "metadata": {},
   "outputs": [
    {
     "data": {
      "text/plain": [
       "<Axes: >"
      ]
     },
     "execution_count": 102,
     "metadata": {},
     "output_type": "execute_result"
    },
    {
     "data": {
      "image/png": "[encoded data removed]",
      "text/plain": [
       "<Figure size 640x480 with 2 Axes>"
      ]
     },
     "metadata": {},
     "output_type": "display_data"
    }
   ],
   "source": [
    "sns.heatmap(df.isnull())"
   ]
  },
  {
   "cell_type": "code",
   "execution_count": 103,
   "id": "54806cdb-592a-4a37-85f5-df3531133056",
   "metadata": {},
   "outputs": [],
   "source": [
    "df2=df.fillna(df.mean())"
   ]
  },
  {
   "cell_type": "code",
   "execution_count": 104,
   "id": "adfa9563-4500-4660-ae48-dc8071f6f128",
   "metadata": {},
   "outputs": [
    {
     "data": {
      "text/plain": [
       "study_hours      0\n",
       "student_marks    0\n",
       "dtype: int64"
      ]
     },
     "execution_count": 104,
     "metadata": {},
     "output_type": "execute_result"
    }
   ],
   "source": [
    "df2.isnull().sum()"
   ]
  },
  {
   "cell_type": "code",
   "execution_count": 105,
   "id": "48cbd992-3e5a-42ec-a96e-88ede139686c",
   "metadata": {},
   "outputs": [
    {
     "data": {
      "text/plain": [
       "<Axes: >"
      ]
     },
     "execution_count": 105,
     "metadata": {},
     "output_type": "execute_result"
    },
    {
     "data": {
      "image/png": "[encoded data removed]",
      "text/plain": [
       "<Figure size 640x480 with 2 Axes>"
      ]
     },
     "metadata": {},
     "output_type": "display_data"
    }
   ],
   "source": [
    "sns.heatmap(df2.isnull())"
   ]
  },
  {
   "cell_type": "code",
   "execution_count": 126,
   "id": "494e7e50-c770-418a-9201-ef639780725b",
   "metadata": {},
   "outputs": [
    {
     "data": {
      "text/html": [
       "<div>\n",
       "<style scoped>\n",
       "    .dataframe tbody tr th:only-of-type {\n",
       "        vertical-align: middle;\n",
       "    }\n",
       "\n",
       "    .dataframe tbody tr th {\n",
       "        vertical-align: top;\n",
       "    }\n",
       "\n",
       "    .dataframe thead th {\n",
       "        text-align: right;\n",
       "    }\n",
       "</style>\n",
       "<table border=\"1\" class=\"dataframe\">\n",
       "  <thead>\n",
       "    <tr style=\"text-align: right;\">\n",
       "      <th></th>\n",
       "      <th>study_hours</th>\n",
       "      <th>student_marks</th>\n",
       "    </tr>\n",
       "  </thead>\n",
       "  <tbody>\n",
       "    <tr>\n",
       "      <th>0</th>\n",
       "      <td>6.83</td>\n",
       "      <td>78.50</td>\n",
       "    </tr>\n",
       "    <tr>\n",
       "      <th>1</th>\n",
       "      <td>6.56</td>\n",
       "      <td>76.74</td>\n",
       "    </tr>\n",
       "    <tr>\n",
       "      <th>2</th>\n",
       "      <td>NaN</td>\n",
       "      <td>78.68</td>\n",
       "    </tr>\n",
       "    <tr>\n",
       "      <th>3</th>\n",
       "      <td>5.67</td>\n",
       "      <td>71.82</td>\n",
       "    </tr>\n",
       "    <tr>\n",
       "      <th>4</th>\n",
       "      <td>8.67</td>\n",
       "      <td>84.19</td>\n",
       "    </tr>\n",
       "  </tbody>\n",
       "</table>\n",
       "</div>"
      ],
      "text/plain": [
       "   study_hours  student_marks\n",
       "0         6.83          78.50\n",
       "1         6.56          76.74\n",
       "2          NaN          78.68\n",
       "3         5.67          71.82\n",
       "4         8.67          84.19"
      ]
     },
     "execution_count": 126,
     "metadata": {},
     "output_type": "execute_result"
    }
   ],
   "source": [
    "df.head()"
   ]
  },
  {
   "cell_type": "code",
   "execution_count": 127,
   "id": "de658a49-b709-4554-bc09-bd98dcbbb6de",
   "metadata": {},
   "outputs": [],
   "source": [
    "x=df2.drop('study_hours',axis='columns')\n",
    "y=df2.drop('student_marks',axis='columns')\n"
   ]
  },
  {
   "cell_type": "code",
   "execution_count": 128,
   "id": "70364c32-4980-4b23-b2da-6866d385fe4d",
   "metadata": {},
   "outputs": [
    {
     "data": {
      "text/plain": [
       "(     student_marks\n",
       " 0            78.50\n",
       " 1            76.74\n",
       " 2            78.68\n",
       " 3            71.82\n",
       " 4            84.19\n",
       " ..             ...\n",
       " 195          81.67\n",
       " 196          84.68\n",
       " 197          86.75\n",
       " 198          78.05\n",
       " 199          83.50\n",
       " \n",
       " [200 rows x 1 columns],\n",
       "      study_hours\n",
       " 0       6.830000\n",
       " 1       6.560000\n",
       " 2       6.995949\n",
       " 3       5.670000\n",
       " 4       8.670000\n",
       " ..           ...\n",
       " 195     7.530000\n",
       " 196     8.560000\n",
       " 197     8.940000\n",
       " 198     6.600000\n",
       " 199     8.350000\n",
       " \n",
       " [200 rows x 1 columns])"
      ]
     },
     "execution_count": 128,
     "metadata": {},
     "output_type": "execute_result"
    }
   ],
   "source": [
    "x,y"
   ]
  },
  {
   "cell_type": "code",
   "execution_count": 129,
   "id": "552796e8-d9eb-4b58-85c6-932988220384",
   "metadata": {},
   "outputs": [
    {
     "data": {
      "text/plain": [
       "student_marks    0\n",
       "dtype: int64"
      ]
     },
     "execution_count": 129,
     "metadata": {},
     "output_type": "execute_result"
    }
   ],
   "source": [
    "x.isnull().sum()"
   ]
  },
  {
   "cell_type": "code",
   "execution_count": 130,
   "id": "a2459e7a-daa8-4a04-9335-23758b9d2c25",
   "metadata": {},
   "outputs": [
    {
     "data": {
      "text/plain": [
       "study_hours    0\n",
       "dtype: int64"
      ]
     },
     "execution_count": 130,
     "metadata": {},
     "output_type": "execute_result"
    }
   ],
   "source": [
    "y.isnull().sum()"
   ]
  },
  {
   "cell_type": "code",
   "execution_count": 131,
   "id": "b3d7df51-3e97-43e0-85fb-b1d3b13fc22a",
   "metadata": {},
   "outputs": [],
   "source": [
    "from sklearn.model_selection import train_test_split\n",
    "xtrain,xtest,ytrain,ytest=train_test_split(x,y,test_size=0.20,random_state=51)"
   ]
  },
  {
   "cell_type": "code",
   "execution_count": 132,
   "id": "8c788135-46e9-4052-a365-7a6d62aa5a35",
   "metadata": {},
   "outputs": [
    {
     "data": {
      "text/plain": [
       "((160, 1), (40, 1))"
      ]
     },
     "execution_count": 132,
     "metadata": {},
     "output_type": "execute_result"
    }
   ],
   "source": [
    "xtrain.shape,xtest.shape"
   ]
  },
  {
   "cell_type": "code",
   "execution_count": 133,
   "id": "9985c2ee-0962-4c9d-b58a-d8e1f3445e09",
   "metadata": {},
   "outputs": [
    {
     "data": {
      "text/plain": [
       "((160, 1), (40, 1))"
      ]
     },
     "execution_count": 133,
     "metadata": {},
     "output_type": "execute_result"
    }
   ],
   "source": [
    "ytrain.shape,ytest.shape"
   ]
  },
  {
   "cell_type": "code",
   "execution_count": 144,
   "id": "29298499-9f47-4db2-92dc-519b55347d5a",
   "metadata": {},
   "outputs": [
    {
     "data": {
      "text/html": [
       "<style>#sk-container-id-8 {color: black;}#sk-container-id-8 pre{padding: 0;}#sk-container-id-8 div.sk-toggleable {background-color: white;}#sk-container-id-8 label.sk-toggleable__label {cursor: pointer;display: block;width: 100%;margin-bottom: 0;padding: 0.3em;box-sizing: border-box;text-align: center;}#sk-container-id-8 label.sk-toggleable__label-arrow:before {content: \"▸\";float: left;margin-right: 0.25em;color: #696969;}#sk-container-id-8 label.sk-toggleable__label-arrow:hover:before {color: black;}#sk-container-id-8 div.sk-estimator:hover label.sk-toggleable__label-arrow:before {color: black;}#sk-container-id-8 div.sk-toggleable__content {max-height: 0;max-width: 0;overflow: hidden;text-align: left;background-color: #f0f8ff;}#sk-container-id-8 div.sk-toggleable__content pre {margin: 0.2em;color: black;border-radius: 0.25em;background-color: #f0f8ff;}#sk-container-id-8 input.sk-toggleable__control:checked~div.sk-toggleable__content {max-height: 200px;max-width: 100%;overflow: auto;}#sk-container-id-8 input.sk-toggleable__control:checked~label.sk-toggleable__label-arrow:before {content: \"▾\";}#sk-container-id-8 div.sk-estimator input.sk-toggleable__control:checked~label.sk-toggleable__label {background-color: #d4ebff;}#sk-container-id-8 div.sk-label input.sk-toggleable__control:checked~label.sk-toggleable__label {background-color: #d4ebff;}#sk-container-id-8 input.sk-hidden--visually {border: 0;clip: rect(1px 1px 1px 1px);clip: rect(1px, 1px, 1px, 1px);height: 1px;margin: -1px;overflow: hidden;padding: 0;position: absolute;width: 1px;}#sk-container-id-8 div.sk-estimator {font-family: monospace;background-color: #f0f8ff;border: 1px dotted black;border-radius: 0.25em;box-sizing: border-box;margin-bottom: 0.5em;}#sk-container-id-8 div.sk-estimator:hover {background-color: #d4ebff;}#sk-container-id-8 div.sk-parallel-item::after {content: \"\";width: 100%;border-bottom: 1px solid gray;flex-grow: 1;}#sk-container-id-8 div.sk-label:hover label.sk-toggleable__label {background-color: #d4ebff;}#sk-container-id-8 div.sk-serial::before {content: \"\";position: absolute;border-left: 1px solid gray;box-sizing: border-box;top: 0;bottom: 0;left: 50%;z-index: 0;}#sk-container-id-8 div.sk-serial {display: flex;flex-direction: column;align-items: center;background-color: white;padding-right: 0.2em;padding-left: 0.2em;position: relative;}#sk-container-id-8 div.sk-item {position: relative;z-index: 1;}#sk-container-id-8 div.sk-parallel {display: flex;align-items: stretch;justify-content: center;background-color: white;position: relative;}#sk-container-id-8 div.sk-item::before, #sk-container-id-8 div.sk-parallel-item::before {content: \"\";position: absolute;border-left: 1px solid gray;box-sizing: border-box;top: 0;bottom: 0;left: 50%;z-index: -1;}#sk-container-id-8 div.sk-parallel-item {display: flex;flex-direction: column;z-index: 1;position: relative;background-color: white;}#sk-container-id-8 div.sk-parallel-item:first-child::after {align-self: flex-end;width: 50%;}#sk-container-id-8 div.sk-parallel-item:last-child::after {align-self: flex-start;width: 50%;}#sk-container-id-8 div.sk-parallel-item:only-child::after {width: 0;}#sk-container-id-8 div.sk-dashed-wrapped {border: 1px dashed gray;margin: 0 0.4em 0.5em 0.4em;box-sizing: border-box;padding-bottom: 0.4em;background-color: white;}#sk-container-id-8 div.sk-label label {font-family: monospace;font-weight: bold;display: inline-block;line-height: 1.2em;}#sk-container-id-8 div.sk-label-container {text-align: center;}#sk-container-id-8 div.sk-container {/* jupyter's `normalize.less` sets `[hidden] { display: none; }` but bootstrap.min.css set `[hidden] { display: none !important; }` so we also need the `!important` here to be able to override the default hidden behavior on the sphinx rendered scikit-learn.org. See: https://github.com/scikit-learn/scikit-learn/issues/21755 */display: inline-block !important;position: relative;}#sk-container-id-8 div.sk-text-repr-fallback {display: none;}</style><div id=\"sk-container-id-8\" class=\"sk-top-container\"><div class=\"sk-text-repr-fallback\"><pre>LinearRegression()</pre><b>In a Jupyter environment, please rerun this cell to show the HTML representation or trust the notebook. <br />On GitHub, the HTML representation is unable to render, please try loading this page with nbviewer.org.</b></div><div class=\"sk-container\" hidden><div class=\"sk-item\"><div class=\"sk-estimator sk-toggleable\"><input class=\"sk-toggleable__control sk-hidden--visually\" id=\"sk-estimator-id-8\" type=\"checkbox\" checked><label for=\"sk-estimator-id-8\" class=\"sk-toggleable__label sk-toggleable__label-arrow\">LinearRegression</label><div class=\"sk-toggleable__content\"><pre>LinearRegression()</pre></div></div></div></div></div>"
      ],
      "text/plain": [
       "LinearRegression()"
      ]
     },
     "execution_count": 144,
     "metadata": {},
     "output_type": "execute_result"
    }
   ],
   "source": [
    "from sklearn.linear_model import LinearRegression\n",
    "lr=LinearRegression()\n",
    "lr.fit(xtrain,ytrain)"
   ]
  },
  {
   "cell_type": "code",
   "execution_count": 145,
   "id": "2142c913-5fb4-41b2-9665-b93f5c5c61da",
   "metadata": {},
   "outputs": [
    {
     "data": {
      "text/plain": [
       "array([[0.24366267]])"
      ]
     },
     "execution_count": 145,
     "metadata": {},
     "output_type": "execute_result"
    }
   ],
   "source": [
    "lr.coef_"
   ]
  },
  {
   "cell_type": "code",
   "execution_count": 146,
   "id": "d02ab325-082e-41e0-8579-68ffd67e84f6",
   "metadata": {},
   "outputs": [
    {
     "data": {
      "text/plain": [
       "array([-12.00446758])"
      ]
     },
     "execution_count": 146,
     "metadata": {},
     "output_type": "execute_result"
    }
   ],
   "source": [
    "lr.intercept_"
   ]
  },
  {
   "cell_type": "code",
   "execution_count": null,
   "id": "6366c2d6-bfd2-436a-b16c-7b11684a9580",
   "metadata": {},
   "outputs": [],
   "source": []
  },
  {
   "cell_type": "code",
   "execution_count": 147,
   "id": "5de65ff2-0c33-41e0-bc0a-ba6363c55eed",
   "metadata": {},
   "outputs": [
    {
     "data": {
      "text/plain": [
       "-11.04"
      ]
     },
     "execution_count": 147,
     "metadata": {},
     "output_type": "execute_result"
    }
   ],
   "source": [
    "y"
   ]
  },
  {
   "cell_type": "code",
   "execution_count": 148,
   "id": "406985ae-8609-46c8-9660-8d12fd2b3a4c",
   "metadata": {},
   "outputs": [
    {
     "data": {
      "text/plain": [
       "0.9525157630805233"
      ]
     },
     "execution_count": 148,
     "metadata": {},
     "output_type": "execute_result"
    }
   ],
   "source": [
    "lr.score(xtest,ytest)"
   ]
  },
  {
   "cell_type": "code",
   "execution_count": null,
   "id": "047be82a-f049-4c67-af7c-f96fb7550721",
   "metadata": {},
   "outputs": [],
   "source": []
  },
  {
   "cell_type": "code",
   "execution_count": 149,
   "id": "d3e66757-7c46-420b-bc06-c8648d7945a6",
   "metadata": {},
   "outputs": [
    {
     "name": "stderr",
     "output_type": "stream",
     "text": [
      "c:\\users\\chaw d vasant\\appdata\\local\\programs\\python\\python38\\lib\\site-packages\\sklearn\\base.py:465: UserWarning: X does not have valid feature names, but LinearRegression was fitted with feature names\n",
      "  warnings.warn(\n"
     ]
    },
    {
     "data": {
      "text/plain": [
       "array([[-11.76080491]])"
      ]
     },
     "execution_count": 149,
     "metadata": {},
     "output_type": "execute_result"
    }
   ],
   "source": [
    "lr.predict([[1]])"
   ]
  },
  {
   "cell_type": "code",
   "execution_count": null,
   "id": "56d48fdc-c4a8-4241-9318-7a952493a0d5",
   "metadata": {},
   "outputs": [],
   "source": []
  },
  {
   "cell_type": "code",
   "execution_count": null,
   "id": "3044f8db-67f2-4bb1-b919-e011692daa2b",
   "metadata": {},
   "outputs": [],
   "source": []
  }
 ],
 "metadata": {
  "kernelspec": {
   "display_name": "Python 3 (ipykernel)",
   "language": "python",
   "name": "python3"
  },
  "language_info": {
   "codemirror_mode": {
    "name": "ipython",
    "version": 3
   },
   "file_extension": ".py",
   "mimetype": "text/x-python",
   "name": "python",
   "nbconvert_exporter": "python",
   "pygments_lexer": "ipython3",
   "version": "3.8.5"
  },
  "widgets": {
   "application/vnd.jupyter.widget-state+json": {
    "state": {},
    "version_major": 2,
    "version_minor": 0
   }
  }
 },
 "nbformat": 4,
 "nbformat_minor": 5
}
